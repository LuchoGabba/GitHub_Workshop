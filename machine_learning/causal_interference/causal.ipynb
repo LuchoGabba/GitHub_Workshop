{
 "cells": [
  {
   "cell_type": "markdown",
   "id": "d81544c4",
   "metadata": {},
   "source": [
    "# Intro to Causal Inference\n",
    "\n",
    "\n",
    "<img width=80 src=\"Images/Assembler.png\">"
   ]
  },
  {
   "cell_type": "markdown",
   "id": "a8410157",
   "metadata": {},
   "source": [
    "# Define causal inference\n",
    "Causal inference is a field of study interested in measuring the effect of a certain treatment.\n",
    "\n",
    "Another way to think about causal inference, is that it answers what-if questions. The goal is always to measure some kind of impact given a certain action.\n",
    "\n",
    "Examples of questions answered with causal inference are:\n",
    "\n",
    "- What is the impact of running an ad campaign on product sales?\n",
    "- What is the effect of smoking on lung cancer?\n",
    "- Does human intervention affects global climate?"
   ]
  },
  {
   "cell_type": "markdown",
   "id": "6d644350",
   "metadata": {},
   "source": [
    "# Causal inference vs traditional machine learning\n",
    "\n",
    "With traditional machine learning techniques, we generate predictions or forecasts given a set of features.\n",
    "\n",
    "Machine Learning models uncover correlations between features and a target to better predict that target. In that sense, any correlation between some feature and the target is useful if it allows the model to make better predictions.\n",
    "\n",
    "**Limitations:** While ML models are excellent at prediction, they don't inherently understand causation. A model might find that ice cream sales and shark attacks are correlated (both increase in the summer) but cannot infer that ice cream sales do not cause shark attacks.\n",
    "\n",
    "When it comes to causal inference, we aim to understand and measure the impact of an intervention or treatment. Therefore, causal inference focuses on uncovering causal pathways, seeking causality rather than mere correlation."
   ]
  },
  {
   "cell_type": "markdown",
   "id": "0d548000",
   "metadata": {},
   "source": [
    "# What is a Ramdomized Controlled Trial?\n",
    "\n",
    "A randomized controlled trial (RCT) is a prospective experimental design that randomly assigns participants to an experimental or control group. RCTs are the gold standard for establishing causal relationships and ruling out confounding variables and selection bias. Researchers must be able to control who receives the treatments and who are the controls to use this design.\n",
    "\n",
    "Control groups — generally are not given any medicine, whereas treatment group receives the specific treatment. And then they measure they observe the effectiveness of the improvement in these groups. If they find some positive results, voila sometimes breakthrough results for some disease do happen (after years and years of such experiments).\n",
    "\n",
    "But.... What if we're testing some effects or radiation over humans? Should we force to smoke to a group of people? Of course not. This is where Causal Inference has its role. It tries to find causal relation or causal paths in data."
   ]
  },
  {
   "cell_type": "markdown",
   "id": "7522089e",
   "metadata": {},
   "source": [
    "# Causal Connections\n",
    "\n",
    "The causal pathway can be depicted as:\n",
    "\n",
    "<img src=\"Images/causal_relation.jpg\">\n",
    "\n",
    "\n",
    "\n",
    "In the figure, offering a discount is called the <strong>treatment</strong> (denoted as the variable T in equations). Discounts may have some effect on the ice cream sales. This is designated as the **outcome** (denoted as Y in equations)."
   ]
  },
  {
   "cell_type": "markdown",
   "id": "30479eaf",
   "metadata": {},
   "source": [
    "# What is a Bayesian Network?\n",
    "\n",
    "Bayesian networks are a type of probabilistic graphical model that uses Bayesian inference for probability computations. \n",
    "\n",
    "A Bayesian network is a directed acyclic graph in which each edge corresponds to a conditional dependency, and each node corresponds to a unique random variable. Formally, if an edge (A, B) exists in the graph connecting random variables A and B, it means that P(B|A) is a factor in the joint probability distribution, so we must know P(B|A) for all values of B and A in order to conduct inference. \n",
    "\n",
    "<img src=\"Images/BN.png\">\n",
    "\n",
    "In the above example, since Rain has an edge going into WetGrass, it means that P(WetGrass|Rain) will be a factor, whose probability values are specified next to the WetGrass node in a conditional probability table."
   ]
  },
  {
   "cell_type": "markdown",
   "id": "c57c69c7",
   "metadata": {},
   "source": [
    "# What is a Confounder?\n",
    "\n",
    "A **confounder** is a variable that influences both the treatment and the outcome.\n",
    "\n",
    "<img src=\"Images/confounder.jpg\">\n",
    "\n",
    "From the figure above, we can see that the confounder influences both the treatment and the outcome. Therefore, it can introduce a bias when measuring the treatment effect."
   ]
  },
  {
   "cell_type": "markdown",
   "id": "a0a47e64",
   "metadata": {},
   "source": [
    "# Measure the treatment effect\n",
    "\n",
    "Until now, we know that causal inference helps us measure the treatment effect on a certain outcome, but we have to watch out for confounders, as they can introduce a bias in our measurement.\n",
    "\n",
    "To measure the treatment effect, there are three broad methods:\n",
    "\n",
    "- <a href=\"https://en.wikipedia.org/wiki/Randomized_experiment\">Randomized experiments</a>, which randomly assign subjects to treatment and control groups to mitigate the influence of confounders. \n",
    "- <a href=\"https://www.ncbi.nlm.nih.gov/pmc/articles/PMC4017459/\">Measure confounders</a>, a method that involves identifying and adjusting for confounding variables to isolate the treatment's effect.\n",
    "- <a href=\"https://en.wikipedia.org/wiki/Instrumental_variables_estimation\">Instrument variables</a>, a technique used when randomization is not possible, leveraging variables that influence the treatment but are not directly related to the outcome.\n"
   ]
  },
  {
   "cell_type": "markdown",
   "id": "632cd776",
   "metadata": {},
   "source": [
    "# Causal Inference Programming\n",
    "\n",
    "First import the required libraries. More info on <a href=\"https://www.pywhy.org/dowhy/v0.8/getting_started/intro.html\">Dowhy</a> and <a href=\"https://www.pywhy.org/\">PyWhy</a>"
   ]
  },
  {
   "cell_type": "code",
   "execution_count": 1,
   "id": "432b036d",
   "metadata": {},
   "outputs": [
    {
     "name": "stderr",
     "output_type": "stream",
     "text": [
      "c:\\Users\\Luciano Gabbanelli\\anaconda3\\envs\\Assembler\\Lib\\site-packages\\tqdm\\auto.py:21: TqdmWarning: IProgress not found. Please update jupyter and ipywidgets. See https://ipywidgets.readthedocs.io/en/stable/user_install.html\n",
      "  from .autonotebook import tqdm as notebook_tqdm\n"
     ]
    }
   ],
   "source": [
    "# !pip install dowhy\n",
    "# !pip install seaborn\n",
    "\n",
    "import numpy as np\n",
    "import pandas as pd\n",
    "import seaborn as sns\n",
    "import matplotlib.pyplot as plt\n",
    "\n",
    "import dowhy\n",
    "from dowhy import CausalModel\n",
    "import dowhy.datasets\n",
    "\n",
    "import warnings\n",
    "warnings.filterwarnings('ignore')"
   ]
  },
  {
   "cell_type": "markdown",
   "id": "11a7bb24",
   "metadata": {},
   "source": [
    "Now we generate synthetic data. Here, we have a treatment effect value of 8. Then, we add two confounders, an instrument variable, and two features. Finally, we generate 10000 samples and store them in a DataFrame. The treatment is binary, meaning that you either get the treatment or not."
   ]
  },
  {
   "cell_type": "code",
   "execution_count": 2,
   "id": "347ed88e",
   "metadata": {},
   "outputs": [],
   "source": [
    "BETA = 8\n",
    "\n",
    "data = dowhy.datasets.linear_dataset(BETA,\n",
    "                                    num_common_causes=2, # confounders\n",
    "                                    num_samples=10000,\n",
    "                                    num_instruments=1, # instrument variables\n",
    "                                    num_effect_modifiers=2, # features\n",
    "                                    treatment_is_binary=True,\n",
    "                                    stddev_treatment_noise=5,\n",
    "                                    num_treatments=1)\n",
    "\n",
    "df = data['df']"
   ]
  },
  {
   "cell_type": "markdown",
   "id": "fc8d0d0a",
   "metadata": {},
   "source": [
    "We need to visualize the data!!!"
   ]
  },
  {
   "cell_type": "code",
   "execution_count": 3,
   "id": "faec978d",
   "metadata": {},
   "outputs": [
    {
     "data": {
      "image/png": "[encoded data removed]",
      "text/plain": [
       "<Figure size 600x500 with 1 Axes>"
      ]
     },
     "metadata": {},
     "output_type": "display_data"
    }
   ],
   "source": [
    "plt.figure(figsize=(6,5))\n",
    "\n",
    "sns.boxplot(y='y', x='v0', data=df)\n",
    "\n",
    "plt.tight_layout()"
   ]
  },
  {
   "cell_type": "markdown",
   "id": "ebe2b25a",
   "metadata": {},
   "source": [
    "The treated group has a higher average than the untreated group. This is a strong signal of causality, but it is not enough. Spurious correlations occur!!\n",
    "<br>\n",
    "<br>\n",
    "<br>\n",
    "<br>\n",
    "\n",
    "\n",
    "<img src=\"Images/scorr2.png\">\n"
   ]
  },
  {
   "cell_type": "markdown",
   "id": "7ecad709",
   "metadata": {},
   "source": [
    "While a correlation exists between variables, it does not imply a causal relationship. **There is no causal pathway!**\n",
    "\n",
    "In theory, a machine learning model might leverage such a correlation to predict outcomes effectively, enhancing its predictive accuracy. However, it's crucial in practice to remain cautious of relying on spurious correlations that don't stem from a genuine causal link. This is particularly important as machine learning models can inadvertently amplify these non-causal relationships.\n",
    "\n",
    "In contrast, causal inference mandates the identification of a causal pathway before deploying any analytical model. This prerequisite ensures that the effects we measure truly originate from the cause under investigation, not from confounded or coincidental relationships. Such rigor in establishing causality allows for more reliable and actionable insights, which are indispensable for informed decision-making and policy development.\n",
    "\n",
    "Let's build our model:"
   ]
  },
  {
   "cell_type": "code",
   "execution_count": 4,
   "id": "90b8c7f8",
   "metadata": {},
   "outputs": [
    {
     "data": {
      "image/png": "[encoded data removed]",
      "text/plain": [
       "<Figure size 800x600 with 1 Axes>"
      ]
     },
     "metadata": {},
     "output_type": "display_data"
    }
   ],
   "source": [
    "model = CausalModel(data=data['df'],\n",
    "                   treatment=data['treatment_name'],\n",
    "                   outcome=data['outcome_name'],\n",
    "                   graph=data['gml_graph'])\n",
    "\n",
    "model.view_model()"
   ]
  },
  {
   "cell_type": "markdown",
   "id": "80cff7fa",
   "metadata": {},
   "source": [
    "we have two confounders (W0 and W1) which have an effect on the treatment (v0) and the outcome (y). We also have two instrument variables (Z0 and Z1) related only to the treatment. Finally, we have one feature (X0) affecting the outcome.\n",
    "\n",
    "Features are variables that impact the outcome directly. In our example of ice cream sales, the temperature could be a feature, since cold temperatures likely mean less ice cream sales, no matter the discount.\n",
    "\n",
    "We can now identify the different ways of measuring the treatment effect."
   ]
  },
  {
   "cell_type": "code",
   "execution_count": 5,
   "id": "967ae97c",
   "metadata": {},
   "outputs": [
    {
     "name": "stdout",
     "output_type": "stream",
     "text": [
      "Estimand type: EstimandType.NONPARAMETRIC_ATE\n",
      "\n",
      "### Estimand : 1\n",
      "Estimand name: backdoor\n",
      "Estimand expression:\n",
      "  d              \n",
      "─────(E[y|W0,W1])\n",
      "d[v₀]            \n",
      "Estimand assumption 1, Unconfoundedness: If U→{v0} and U→y then P(y|v0,W0,W1,U) = P(y|v0,W0,W1)\n",
      "\n",
      "### Estimand : 2\n",
      "Estimand name: iv\n",
      "Estimand expression:\n",
      " ⎡                      -1⎤\n",
      " ⎢  d      ⎛  d        ⎞  ⎥\n",
      "E⎢─────(y)⋅⎜─────([v₀])⎟  ⎥\n",
      " ⎣d[Z₀]    ⎝d[Z₀]      ⎠  ⎦\n",
      "Estimand assumption 1, As-if-random: If U→→y then ¬(U →→{Z0})\n",
      "Estimand assumption 2, Exclusion: If we remove {Z0}→{v0}, then ¬({Z0}→y)\n",
      "\n",
      "### Estimand : 3\n",
      "Estimand name: frontdoor\n",
      "No such variable(s) found!\n",
      "\n"
     ]
    }
   ],
   "source": [
    "identified_estimand= model.identify_effect(proceed_when_unidentifiable=True)\n",
    "\n",
    "print(identified_estimand)"
   ]
  },
  {
   "cell_type": "markdown",
   "id": "1ee9ea91",
   "metadata": {},
   "source": [
    "to make things easy we'll use Estimand #2: Intrumental variables. "
   ]
  },
  {
   "cell_type": "code",
   "execution_count": 6,
   "id": "f718d0c9",
   "metadata": {},
   "outputs": [
    {
     "name": "stdout",
     "output_type": "stream",
     "text": [
      "Treatment effect:  9.603782789022553\n"
     ]
    }
   ],
   "source": [
    "causal_estimate = model.estimate_effect(\n",
    "    identified_estimand,\n",
    "    method_name=\"iv.instrumental_variable\")\n",
    "\n",
    "print('Treatment effect: ', causal_estimate.value)"
   ]
  },
  {
   "cell_type": "markdown",
   "id": "63be5191",
   "metadata": {},
   "source": [
    "We fixed the theoretical value to 8 (BETA=8). The method got very close to measuring the real effect of the treatment."
   ]
  },
  {
   "cell_type": "markdown",
   "id": "5d0452c1",
   "metadata": {},
   "source": [
    "# Model Evaluation\n",
    "\n",
    "When using causal inference, we do not make predictions. While we know the correct theoretical value for our synthetic data (we fixed it previously), in the real world, there is no target, so we cannot report an error metric, like the MAE or the MSE.\n",
    "\n",
    "We must evaluate the robustness of the model in identifying a causal effect under assumptions violation.\n",
    "\n",
    "One way to test that is to add a random common cause. In this procedure, we add an independent random variable as a cause of the outcome. Since the variable is random and independent, it should not impact the our measure of the treatment effect."
   ]
  },
  {
   "cell_type": "code",
   "execution_count": 7,
   "id": "fa32e7c9",
   "metadata": {},
   "outputs": [
    {
     "name": "stdout",
     "output_type": "stream",
     "text": [
      "Refute: Add a random common cause\n",
      "Estimated effect:9.603782789022553\n",
      "New effect:9.603782789022553\n",
      "p value:1.0\n",
      "\n"
     ]
    }
   ],
   "source": [
    "res_random=model.refute_estimate(identified_estimand, causal_estimate, method_name=\"random_common_cause\")\n",
    "\n",
    "print(res_random)"
   ]
  },
  {
   "cell_type": "markdown",
   "id": "103769a5",
   "metadata": {},
   "source": [
    "Adding a random common cause does not change the measured effect. This is further supported by a p-value of 1 (beware of P-Values). We can conclude that the model is robust and we can trust its causal effect estimate.\n"
   ]
  },
  {
   "cell_type": "markdown",
   "id": "7dab2fab",
   "metadata": {},
   "source": [
    "# Conclusion\n",
    "We crash-coursed into the field of causal inference. Unlike in traditional machine learning, we are not doing predictions, but instead measuring the impact of a treatment on an outcome.\n",
    "\n",
    "In real life, many things impact the outcome:\n",
    "\n",
    "- confounders that affect the treatment and the outcome\n",
    "- features that affect the outcome directly\n",
    "- we can add instrument variables that correlate only with the treatment\n",
    "\n",
    "There are methods to isolate the treatment effect and remove the bias of confounders and features, but domain knowledge and human inputs remain important to design the right causal graph and then use the right methods."
   ]
  },
  {
   "cell_type": "markdown",
   "id": "cf22104e",
   "metadata": {},
   "source": [
    "# References\n",
    "\n",
    "For a gentle introduction (No math, whithout hassle):\n",
    "\n",
    "<a href=\"https://en.wikipedia.org/wiki/The_Book_of_Why\">The book of Why by Judea Pearl</a>\n",
    "<img width=\"200\" src=\"Images/book_of_why.jpg\">\n",
    "<br>\n"
   ]
  },
  {
   "cell_type": "markdown",
   "id": "125dc93d",
   "metadata": {},
   "source": [
    "With Math & with hassle (not much):\n",
    "\n",
    "<a href=\"https://www.amazon.com/Causal-Inference-Statistics-Judea-Pearl/dp/1119186846/ref=sr_1_2\">Causal Inference in Statistics - A Primer</a>\n",
    "<img width=\"200\" src=\"Images/causal_primer.jpg\">\n",
    "<br>\n",
    "    "
   ]
  }
 ],
 "metadata": {
  "kernelspec": {
   "display_name": "Python 3 (ipykernel)",
   "language": "python",
   "name": "python3"
  },
  "language_info": {
   "codemirror_mode": {
    "name": "ipython",
    "version": 3
   },
   "file_extension": ".py",
   "mimetype": "text/x-python",
   "name": "python",
   "nbconvert_exporter": "python",
   "pygments_lexer": "ipython3",
   "version": "3.11.8"
  }
 },
 "nbformat": 4,
 "nbformat_minor": 5
}
