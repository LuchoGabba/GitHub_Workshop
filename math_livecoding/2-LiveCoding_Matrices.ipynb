{
 "cells": [
  {
   "cell_type": "markdown",
   "id": "4cf22adc",
   "metadata": {},
   "source": [
    "# Matrices\n",
    "\n",
    "Sigamos aprendiendo algebra lineal!\n",
    "\n",
    "Las matrices son la continuación natural de los vetores.\n",
    "\n",
    "Una matriz es un arreglo rectangular de escalares (es decir, cualquier número: entero, real o complejo) dispuestos en filas y columnas, por ejemplo:\n",
    "\n",
    "$$\\begin{bmatrix} 10 & 20 & 30 \\\\ 40 & 50 & 60 \\end{bmatrix}$$\n",
    "\n",
    "También puede pensar en una matriz como una lista de vectores: la matriz anterior contiene 2 vectores 3D horizontales o 3 vectores 2D verticales. \n",
    "\n",
    "- Las matrices son convenientes y muy eficientes para ejecutar operaciones en muchos vectores a la vez. \n",
    "\n",
    "- Son excelentes para representar y realizar transformaciones lineales como rotaciones, traslaciones y cambios de escala."
   ]
  },
  {
   "cell_type": "markdown",
   "id": "fd4128ea",
   "metadata": {},
   "source": [
    "## Matrices en python\n",
    "\n",
    "En python, una matriz se puede representar de varias formas. El más simple es solo una lista de listas de python:"
   ]
  },
  {
   "cell_type": "code",
   "execution_count": 29,
   "id": "389c5828",
   "metadata": {},
   "outputs": [
    {
     "data": {
      "text/plain": [
       "[[10, 20, 30], [40, 50, 60]]"
      ]
     },
     "execution_count": 29,
     "metadata": {},
     "output_type": "execute_result"
    }
   ],
   "source": [
    "[\n",
    "    [10, 20, 30],\n",
    "    [40, 50, 60]\n",
    "]"
   ]
  },
  {
   "cell_type": "markdown",
   "id": "790b80cd",
   "metadata": {},
   "source": [
    "Pero, al igual que con los vectores, es mucho más eficiente representarlas como arreglos NumPy."
   ]
  },
  {
   "cell_type": "code",
   "execution_count": 30,
   "id": "26ea8d78",
   "metadata": {},
   "outputs": [
    {
     "name": "stdout",
     "output_type": "stream",
     "text": [
      "[[10 20 30]\n",
      " [40 50 60]]\n"
     ]
    }
   ],
   "source": [
    "import numpy as np\n",
    "A = np.array([\n",
    "    [10,20,30],\n",
    "    [40,50,60]\n",
    "])\n",
    "\n",
    "print(A)"
   ]
  },
  {
   "cell_type": "code",
   "execution_count": 31,
   "id": "0a64d2a2",
   "metadata": {},
   "outputs": [
    {
     "data": {
      "text/plain": [
       "array([[10, 20, 30],\n",
       "       [40, 50, 60]])"
      ]
     },
     "execution_count": 31,
     "metadata": {},
     "output_type": "execute_result"
    }
   ],
   "source": [
    "A"
   ]
  },
  {
   "cell_type": "markdown",
   "id": "8c84c58a",
   "metadata": {},
   "source": [
    "Los vectores se nombraban con minúsculas y **negrita**.\n",
    "\n",
    "Por convención, las matrices generalmente tienen nombres en mayúsculas, como $A$."
   ]
  },
  {
   "cell_type": "markdown",
   "id": "f506e8c2",
   "metadata": {},
   "source": [
    "### Tamaño\n",
    "\n",
    "**Precaución**: el atributo `size` representa el número de elementos en el `ndarray`, no el tamaño de la matriz:"
   ]
  },
  {
   "cell_type": "code",
   "execution_count": 32,
   "id": "ffcd3b83",
   "metadata": {},
   "outputs": [
    {
     "data": {
      "text/plain": [
       "6"
      ]
     },
     "execution_count": 32,
     "metadata": {},
     "output_type": "execute_result"
    }
   ],
   "source": [
    "A.size"
   ]
  },
  {
   "cell_type": "markdown",
   "id": "7a72ddc3",
   "metadata": {},
   "source": [
    "El tamaño de una matriz se define por su número de filas y número de columnas. Se anota $filas \\times columnas$. Por ejemplo, la matriz $A$ anterior es un ejemplo de una matriz de $2 \\times 3$: 2 filas, 3 columnas. Precaución: una matriz de $3 \\times 2$ tendría 3 filas y 2 columnas.\n",
    "\n",
    "Para obtener el tamaño de una matriz en NumPy:"
   ]
  },
  {
   "cell_type": "code",
   "execution_count": 33,
   "id": "0997397b",
   "metadata": {},
   "outputs": [
    {
     "name": "stdout",
     "output_type": "stream",
     "text": [
      "tuple of the dimension = (2, 3)\n"
     ]
    }
   ],
   "source": [
    "print(type(A.shape).__name__, 'of the dimension =', A.shape)"
   ]
  },
  {
   "cell_type": "markdown",
   "id": "edb0523e",
   "metadata": {},
   "source": [
    "### Indexación de elementos\n",
    "\n",
    "El elemento ubicado en la fila $i^{th}$ y la columna $j^{th}$ de una matriz $X$ se indica como $X_{i,j}$ o $X_{ij}$. Así, \"*sea $X = (x_{i,j})_{1 ≤ i ≤ m, 1 ≤ j ≤ n}$*\", esto significa que $X$ es igual a:\n",
    "\n",
    "$X = \\begin{bmatrix}\n",
    "   x_{1,1} & x_{1,2} & x_{1,3} & \\cdots & x_{1,n}\\\\\n",
    "   x_{2,1} & x_{2,2} & x_{2,3} & \\cdots & x_{2,n}\\\\\n",
    "   x_{3,1} & x_{3,2} & x_{3,3} & \\cdots & x_{3,n}\\\\\n",
    "   \\vdots & \\vdots & \\vdots & \\ddots & \\vdots \\\\\n",
    "   x_{m,1} & x_{m,2} & x_{m,3} & \\cdots & x_{m,n}\\\\\n",
    "\\end{bmatrix}$\n",
    "\n",
    "Nota: Tenga en cuenta que en matemáticas, los índices generalmente comienzan en 1, pero en programación generalmente comienzan en 0.\n",
    "\n",
    "- El vector de la fila $i^{ésima}$ a veces se anota como $M_i$ o $M_{i,*}$\n",
    "\n",
    "- El $j^{ésimo}$ vector de columna a veces se indica como $M^j$ o $M_{*,j}$"
   ]
  },
  {
   "cell_type": "code",
   "execution_count": 34,
   "id": "62224281",
   "metadata": {},
   "outputs": [
    {
     "name": "stdout",
     "output_type": "stream",
     "text": [
      "A = \n",
      "[[10 20 30]\n",
      " [40 50 60]]\n",
      "\n",
      "A2* = [40 50 60]\n",
      "\n",
      "A*3 = [30 60]\n"
     ]
    }
   ],
   "source": [
    "# Now you can control your print in NumPy\n",
    "with np.printoptions(precision=3, suppress=True):\n",
    "    print('A = \\n', A, sep='')\n",
    "print()\n",
    "print('A2* =', A[1, :])  # Vector de segunda fila (como una matriz 1D)\n",
    "print()\n",
    "print('A*3 =', A[:, 2])  # 3er vector de columna (como una matriz 1D)"
   ]
  },
  {
   "cell_type": "markdown",
   "id": "fb4a6f67",
   "metadata": {},
   "source": [
    "Tenga en cuenta que el resultado es una matriz NumPy unidimensional: no existe una matriz unidimensional *vertical* y otra *horizontal*. \n",
    "\n",
    "Si necesita representar un vector de fila como una matriz de una fila (es decir, una matriz 2D NumPy), o un vector de columna como una matriz de una columna, entonces necesita usar un slice en lugar de un índice al acceder a la fila o columna, por ejemplo:"
   ]
  },
  {
   "cell_type": "code",
   "execution_count": 35,
   "id": "4425afaa",
   "metadata": {},
   "outputs": [
    {
     "name": "stdout",
     "output_type": "stream",
     "text": [
      "vector fila = [[40 50 60]]\n",
      "\n",
      "vector columna = \n",
      "[[30]\n",
      " [60]]\n"
     ]
    }
   ],
   "source": [
    "# filas 2 a 3 (excluida): esto devuelve la fila 2 como una matriz de una fila\n",
    "print('vector fila =', A[1:2, :])\n",
    "print()\n",
    "# columnas 3 a 4 (excluida): esto devuelve la columna 3 como una matriz de una columna\n",
    "print('vector columna = \\n', A[:, 2:3], sep='')"
   ]
  },
  {
   "cell_type": "markdown",
   "id": "5070c343",
   "metadata": {},
   "source": [
    "**Recordatorio:** Dimensionalidad en la multiplicación de matrices:\n",
    "\n",
    "$\\mathbb{R}$[1;m] x $\\mathbb{R}$[m;loquesea] x $\\mathbb{R}$[loquesea;1] $\\quad=\\quad$ $\\mathbb{R}$[1;m] x $\\mathbb{R}$[m;1] $\\quad=\\quad$ $\\mathbb{R}$[1;1]  $\\quad\\equiv\\quad\\mathbb{R}$ (un escalar)"
   ]
  },
  {
   "cell_type": "markdown",
   "id": "09460d31",
   "metadata": {},
   "source": [
    "### Tipos de matrices: cuadradas, triangulares, diagonales e identidad\n",
    "\n",
    "Una **matriz cuadrada** es una matriz que tiene el mismo número de filas y columnas. Por ejemplo, una matriz de $3 \\times 3$ es:\n",
    "\n",
    "\\begin{bmatrix}\n",
    "  4 & 9 & 2 \\\\\n",
    "  3 & 5 & 7 \\\\\n",
    "  8 & 1 & 6\n",
    "\\end{bmatrix}\n",
    "\n",
    "Una **matriz triangular superior** es un tipo especial de matriz cuadrada donde todos los elementos *debajo* de la diagonal principal (de arriba a la izquierda a abajo a la derecha) son cero. Por ejemplo:\n",
    "\n",
    "\\begin{bmatrix}\n",
    "  4 & 9 & 2 \\\\\n",
    "  0 & 5 & 7 \\\\\n",
    "  0 & 0 & 6\n",
    "\\end{bmatrix}\n",
    "\n",
    "Una **matriz triangular inferior** es una matriz cuadrada donde todos los elementos *encima* de la diagonal principal son cero. Por ejemplo:\n",
    "\n",
    "\\begin{bmatrix}\n",
    "  4 & 0 & 0 \\\\\n",
    "  3 & 5 & 0 \\\\\n",
    "  8 & 1 & 6\n",
    "\\end{bmatrix}\n",
    "\n",
    "Una **matriz triangular** es una que es triangular inferior o triangular superior.\n",
    "\n",
    "Una matriz que es tanto triangular superior como inferior se denomina **matriz diagonal**. Por ejemplo:\n",
    "\n",
    "\\begin{bmatrix}\n",
    "  4 & 0 & 0 \\\\\n",
    "  0 & 5 & 0 \\\\\n",
    "  0 & 0 & 6\n",
    "\\end{bmatrix}"
   ]
  },
  {
   "cell_type": "code",
   "execution_count": 36,
   "id": "cf21f3d1",
   "metadata": {},
   "outputs": [
    {
     "data": {
      "text/plain": [
       "array([[10,  0],\n",
       "       [ 0, 50]])"
      ]
     },
     "execution_count": 36,
     "metadata": {},
     "output_type": "execute_result"
    }
   ],
   "source": [
    "np.array([\n",
    "    [10,0],\n",
    "    [0,50]\n",
    "])\n",
    "\n",
    "# Una matriz diagonal se define como K_{ij} = 0, si i != j\n",
    "# Es equivalente a decir que tiene elementos no nulos en K_{ii}, con i = 1, 2 ... n"
   ]
  },
  {
   "cell_type": "code",
   "execution_count": 110,
   "id": "4c0fa2da",
   "metadata": {},
   "outputs": [
    {
     "name": "stdout",
     "output_type": "stream",
     "text": [
      "Puedo crear una matriz diagonal:\n",
      "[[4 0 0]\n",
      " [0 5 0]\n",
      " [0 0 6]]\n"
     ]
    }
   ],
   "source": [
    "print('Puedo crear una matriz diagonal:')\n",
    "print(np.diag([4, 5, 6]))"
   ]
  },
  {
   "cell_type": "code",
   "execution_count": 111,
   "id": "7b5466fc",
   "metadata": {},
   "outputs": [
    {
     "name": "stdout",
     "output_type": "stream",
     "text": [
      "\n",
      "O puedo extraer los valores de la diagonal: [1 5 9]\n"
     ]
    }
   ],
   "source": [
    "D = np.array([\n",
    "        [1, 2, 3],\n",
    "        [4, 5, 6],\n",
    "        [7, 8, 9],\n",
    "    ])\n",
    "\n",
    "print()\n",
    "print('O puedo extraer los valores de la diagonal:', np.diag(D))"
   ]
  },
  {
   "cell_type": "markdown",
   "id": "9713c05f",
   "metadata": {},
   "source": [
    "\n",
    "\n",
    "La **matriz identidad** de tamaño $n$, indicada como $I_n$ (o simplemente $I$ cuando su tamaño es claro por contexto), es una matriz diagonal de tamaño $n \\times n$ con $1$ en la diagonal principal. Esa matriz es el elemento neutro de la multiplicación (es el 1 de las matrices). Se llama la matriz *identidad* porque al multiplicar una matriz con ella, la matriz permanece sin cambios."
   ]
  },
  {
   "cell_type": "code",
   "execution_count": 112,
   "id": "f6913f15",
   "metadata": {},
   "outputs": [
    {
     "data": {
      "text/plain": [
       "array([[1., 0., 0., 0., 0.],\n",
       "       [0., 1., 0., 0., 0.],\n",
       "       [0., 0., 1., 0., 0.],\n",
       "       [0., 0., 0., 1., 0.],\n",
       "       [0., 0., 0., 0., 1.]])"
      ]
     },
     "execution_count": 112,
     "metadata": {},
     "output_type": "execute_result"
    }
   ],
   "source": [
    "np.eye(5)"
   ]
  },
  {
   "cell_type": "markdown",
   "id": "a21161bc",
   "metadata": {},
   "source": [
    "**What is the correct diomension for the identity matrix?**"
   ]
  },
  {
   "cell_type": "code",
   "execution_count": 114,
   "id": "732e7f79",
   "metadata": {},
   "outputs": [
    {
     "data": {
      "text/plain": [
       "array([[10.,  7.],\n",
       "       [ 0., 50.],\n",
       "       [ 0.,  5.],\n",
       "       [ 0., 21.]])"
      ]
     },
     "execution_count": 114,
     "metadata": {},
     "output_type": "execute_result"
    }
   ],
   "source": [
    "np.eye(4).dot(np.array([\n",
    "    [10,7],\n",
    "    [0,50],\n",
    "    [0,5],\n",
    "    [0,21]]))"
   ]
  },
  {
   "cell_type": "code",
   "execution_count": 41,
   "id": "73b477fe",
   "metadata": {},
   "outputs": [
    {
     "data": {
      "text/plain": [
       "array([[0, 0],\n",
       "       [0, 0]])"
      ]
     },
     "execution_count": 41,
     "metadata": {},
     "output_type": "execute_result"
    }
   ],
   "source": [
    "np.array([\n",
    "    [10,0],\n",
    "    [0,50]]) * np.array([\n",
    "    [0,1],\n",
    "    [1,0]])"
   ]
  },
  {
   "cell_type": "markdown",
   "id": "9e644a44",
   "metadata": {},
   "source": [
    "## Operaciones con matrices\n",
    "\n",
    "### Sumando matrices\n",
    "\n",
    "Si dos matrices $Q$ y $R$ tienen el mismo tamaño $m \\times n$, se pueden sumar. La suma se realiza *elemento a elemento*: el resultado también es una matriz $S$, de tamaño $m \\times n$ donde cada elemento es la suma de los elementos en la posición correspondiente: $S_{i,j} = Q_{i,j} + R_{i,j}$.\n",
    "\n",
    "- **La suma es *conmutativa***, lo que significa que $A + B = B + A$\n",
    "\n",
    "\n",
    "- **También es *asociativa***, lo que significa que $A + (B + C) = (A + B) + C$"
   ]
  },
  {
   "cell_type": "code",
   "execution_count": 42,
   "id": "bfd65612",
   "metadata": {},
   "outputs": [
    {
     "name": "stdout",
     "output_type": "stream",
     "text": [
      "[[1 2 3]\n",
      " [4 5 6]]\n",
      "+\n",
      "[[10 20 30]\n",
      " [40 50 60]]\n",
      "-------------\n",
      "[[11 22 33]\n",
      " [44 55 66]]\n"
     ]
    }
   ],
   "source": [
    "B = np.array([[1,2,3], [4, 5, 6]])\n",
    "print(B)\n",
    "print('+')\n",
    "print(A)\n",
    "print('-'*13)\n",
    "print(A + B)"
   ]
  },
  {
   "cell_type": "markdown",
   "id": "0e4b897a",
   "metadata": {},
   "source": [
    "### Multiplicación por un escalar\n",
    "\n",
    "Una matriz $M$ se puede multiplicar por un escalar $\\lambda$. El resultado se anota $\\lambda M$, y es una matriz del mismo tamaño que $M$ con todos los elementos multiplicados por $\\lambda$.\n",
    "\n",
    "Esto puede escribirse como:\n",
    "\n",
    "$(\\lambda M)_{i,j} = \\lambda (M)_{i,j}$\n",
    "\n",
    "En NumPy, simplemente use el operador `*` para multiplicar una matriz por un escalar.\n",
    "\n",
    "- La multiplicación por un escalar es **conmutativa**, lo que significa que $M \\lambda = \\lambda M$\n",
    "\n",
    "\n",
    "- También es **asociativa**, lo que significa que $\\alpha (\\beta M) = (\\alpha \\times \\beta) M$, donde $\\alpha$ y $\\beta$ son escalares.\n",
    "\n",
    "\n",
    "- Finalmente, es **distributiva sobre la suma** de matrices, lo que significa que $\\lambda (Q + R) = \\lambda Q + \\lambda R$:"
   ]
  },
  {
   "cell_type": "code",
   "execution_count": 43,
   "id": "7c7639e7",
   "metadata": {},
   "outputs": [
    {
     "data": {
      "text/plain": [
       "array([[ 20,  40,  60],\n",
       "       [ 80, 100, 120]])"
      ]
     },
     "execution_count": 43,
     "metadata": {},
     "output_type": "execute_result"
    }
   ],
   "source": [
    "2*A"
   ]
  },
  {
   "cell_type": "markdown",
   "id": "c3675ab3",
   "metadata": {},
   "source": [
    "### Multiplicación de matrices\n",
    "\n",
    "Una matriz $Q$ de tamaño $m \\times n$ se puede multiplicar por una matriz $R$ de tamaño $n \\times q$. Se anota simplemente $QR$ sin signo de multiplicación ni punto. El resultado $P$ es una matriz $m \\times q$ donde cada elemento se calcula como una suma de productos:\n",
    "\n",
    "$$P_{i,j} = \\sum_{k=1}^n{Q_{i,k} \\times R_{k,j}}$$\n",
    "\n",
    "donde $i=1,...,n$; $k=1,...,n$; y $j=1,...,q$.\n",
    "\n",
    "El elemento en la posición $i,j$ en la matriz resultante es la suma de los productos de los elementos en la fila $i$ de la matriz $Q$ por los elementos en la columna $j$ de la matriz $R$.\n",
    "\n",
    "<img src=\"Images/Matrix_Multiplication_02.gif\" width=\"250\">\n",
    "\n",
    "\n",
    "Puedes notar que cada elemento $P_{i,j}$ es el producto escalar del vector fila $Q_{i,*}$ y el vector columna $R_{*,j}$:\n",
    "\n",
    "$$P_{i,j} = Q_{i,*} \\cdot R_{*,j}$$\n",
    "\n",
    "Entonces podemos reescribir $P$ de manera más concisa como:\n",
    "\n",
    "$$P =\n",
    "\\begin{bmatrix}\n",
    "Q_{1,*} \\cdot R_{*,1} & Q_{1,*} \\cdot R_{*,2} & \\cdots & Q_{1,*} \\cdot R_{*,q} \\\\\n",
    "Q_{2,*} \\cdot R_{*,1} & Q_{2,*} \\cdot R_{*,2} & \\cdots & Q_{2,*} \\cdot R_{*,q} \\\\\n",
    "\\vdots & \\vdots & \\ddots & \\vdots \\\\\n",
    "Q_{m,*} \\cdot R_{*,1} & Q_{m,*} \\cdot R_{*,2} & \\cdots & Q_{m,*} \\cdot R_{*,q}\n",
    "\\end{bmatrix}$$"
   ]
  },
  {
   "cell_type": "markdown",
   "id": "7187102a",
   "metadata": {},
   "source": [
    "Podríamos multiplicar una matriz de $2 \\times 3$ por una matriz de $3 \\times 4$. El resultado es una matriz de $2 \\times 4$.\n",
    "\n",
    "**El número de columnas de la primera matriz tiene que ser igual al número de filas de la segunda matriz.** "
   ]
  },
  {
   "cell_type": "code",
   "execution_count": 119,
   "id": "84cf508a",
   "metadata": {},
   "outputs": [
    {
     "name": "stdout",
     "output_type": "stream",
     "text": [
      "[[10 20 30]\n",
      " [40 50 60]]\n",
      "*\n",
      "[[ 2  3  5  7]\n",
      " [11 13 17 19]\n",
      " [23 29 31 37]]\n",
      "---------------------------\n",
      "[[ 930 1160 1320 1560]\n",
      " [2010 2510 2910 3450]]\n"
     ]
    }
   ],
   "source": [
    "D = np.array([\n",
    "        [ 2,  3,  5,  7],\n",
    "        [11, 13, 17, 19],\n",
    "        [23, 29, 31, 37]\n",
    "    ])\n",
    "\n",
    "print(A)\n",
    "print('*')\n",
    "print(D)\n",
    "print('-'*27)\n",
    "E = np.dot(A,D)\n",
    "print(E)"
   ]
  },
  {
   "cell_type": "markdown",
   "id": "544aad1b",
   "metadata": {},
   "source": [
    "La multiplicación de dos matrices en NumPy, usando el método `dot` de `ndarray` es:\n",
    "$$E = AD = \\begin{bmatrix}\n",
    "  10 & 20 & 30 \\\\\n",
    "  40 & 50 & 60\n",
    "\\end{bmatrix} \n",
    "\\begin{bmatrix}\n",
    "  2 & 3 & 5 & 7 \\\\\n",
    "  11 & 13 & 17 & 19 \\\\\n",
    "  23 & 29 & 31 & 37\n",
    "\\end{bmatrix} = \n",
    "\\begin{bmatrix}\n",
    "  930 & 1160 & 1320 & 1560 \\\\\n",
    "  2010 & 2510 & 2910 & 3450\n",
    "\\end{bmatrix}$$\n",
    "\n",
    "No es lo mismo que\n",
    "\n",
    "$$F = DA =\\begin{bmatrix}\n",
    "  2 & 3 & 5 & 7 \\\\\n",
    "  11 & 13 & 17 & 19 \\\\\n",
    "  23 & 29 & 31 & 37\n",
    "\\end{bmatrix}\n",
    " \\begin{bmatrix}\n",
    "  10 & 20 & 30 \\\\\n",
    "  40 & 50 & 60\n",
    "\\end{bmatrix} \n",
    " = ERROR$$"
   ]
  },
  {
   "cell_type": "code",
   "execution_count": 120,
   "id": "71b49add",
   "metadata": {},
   "outputs": [
    {
     "data": {
      "text/plain": [
       "array([[ 930, 1160, 1320, 1560],\n",
       "       [2010, 2510, 2910, 3450]])"
      ]
     },
     "execution_count": 120,
     "metadata": {},
     "output_type": "execute_result"
    }
   ],
   "source": [
    "# np.dot(A,D) es lo mismo que\n",
    "A.dot(D)\n",
    "# Las matrices NO se multiplican con * (Estudien Broadcasting)"
   ]
  },
  {
   "cell_type": "markdown",
   "id": "7b41d855",
   "metadata": {},
   "source": [
    "Si intentamos multiplicar $D$ por $A$, obtenemos un error porque D tiene 4 columnas mientras que A tiene 2 filas:"
   ]
  },
  {
   "cell_type": "code",
   "execution_count": 121,
   "id": "b26f0037",
   "metadata": {},
   "outputs": [
    {
     "name": "stdout",
     "output_type": "stream",
     "text": [
      "ValueError: shapes (3,4) and (2,3) not aligned: 4 (dim 1) != 2 (dim 0)\n"
     ]
    }
   ],
   "source": [
    "try:\n",
    "    D.dot(A)\n",
    "except ValueError as e:\n",
    "    print(\"ValueError:\", e)"
   ]
  },
  {
   "cell_type": "markdown",
   "id": "0ce8d5b3",
   "metadata": {},
   "source": [
    "Esto ilustra el hecho de que **la multiplicación de matrices *NO* es conmutativa**: en general $QR ≠ RQ$\n",
    "\n",
    "De hecho, $QR$ y $RQ$ solo están *ambos* definidos si $Q$ tiene el tamaño $m \\times n$ y $R$ tiene el tamaño $n \\times m$. Veamos un ejemplo en el que ambos *están* definidos y mostramos que (en general) *NO* son iguales:\n",
    "\n",
    "Sean A y F dos matrices,"
   ]
  },
  {
   "cell_type": "code",
   "execution_count": 47,
   "id": "2f25c192",
   "metadata": {},
   "outputs": [
    {
     "data": {
      "text/plain": [
       "array([[10, 20, 30],\n",
       "       [40, 50, 60]])"
      ]
     },
     "execution_count": 47,
     "metadata": {},
     "output_type": "execute_result"
    }
   ],
   "source": [
    "A"
   ]
  },
  {
   "cell_type": "code",
   "execution_count": 123,
   "id": "6ce7f847",
   "metadata": {},
   "outputs": [
    {
     "name": "stdout",
     "output_type": "stream",
     "text": [
      "AF { (2,3)x(3,2)=(2,2) } =\n",
      "[[400 130]\n",
      " [940 310]]\n",
      "\n",
      "FA { (3,2)x(2,3)=(3,3) } =\n",
      "[[130 200 270]\n",
      " [ 80 130 180]\n",
      " [210 330 450]]\n"
     ]
    }
   ],
   "source": [
    "F = np.array([\n",
    "        [5,2],\n",
    "        [4,1],\n",
    "        [9,3]\n",
    "    ])\n",
    "\n",
    "print('AF { (2,3)x(3,2)=(2,2) } =\\n', np.dot(A,F), sep='')\n",
    "print()\n",
    "print('FA { (3,2)x(2,3)=(3,3) } =\\n', F.dot(A), sep='')"
   ]
  },
  {
   "cell_type": "markdown",
   "id": "4b31833c",
   "metadata": {},
   "source": [
    "Puede suceder que la multiplicación de matrices:\n",
    "- No esté definida; $AF$ existe, pero $FA$ no.\n",
    "- Esté definida pero $AF \\neq FA$.\n",
    "- Esté definida y $AF \\equiv FA$.\n",
    "\n",
    "**Recordatorio (otra vez):** Dimensionalidad en la multiplicación de matrices:\n",
    "\n",
    "$\\mathbb{R}$[1;m] x $\\mathbb{R}$[m;loquesea] x $\\mathbb{R}$[loquesea;1] $\\quad=\\quad$ $\\mathbb{R}$[1;m] x $\\mathbb{R}$[m;1] $\\quad=\\quad$ $\\mathbb{R}$[1;1]  $\\quad\\equiv\\quad\\mathbb{R}$ (un escalar)\n",
    "\n",
    "<br>\n",
    "\n",
    "Por otro lado, **la multiplicación de matrices *es* asociativa**, lo que significa que $Q(RS) = (QR)S$.\n",
    "\n",
    "También es ***distributiva* sobre la suma** de matrices, lo que significa que $(Q + R)S = QS + RS$."
   ]
  },
  {
   "cell_type": "markdown",
   "id": "3e7b57ed",
   "metadata": {},
   "source": [
    "### La matriz identidad \n",
    "\n",
    "*El* producto de una matriz $M$ por la matriz identidad (de igual tamaño) da como resultado la misma matriz $M$. Más formalmente, si $M$ es una matriz $m \\times n$, entonces:\n",
    "\n",
    "$M I_n = I_m M = M$\n",
    "\n",
    "Esto generalmente se escribe de manera más concisa (ya que el tamaño de las matrices de identidad no es ambiguo dado el contexto):\n",
    "\n",
    "$MI = IM = M$\n",
    "\n",
    "Dada la matriz A, multipliquémosla por la identidad a derecha e izquierda (ojo con el tamaño de $I$):"
   ]
  },
  {
   "cell_type": "code",
   "execution_count": 49,
   "id": "af388a2e",
   "metadata": {},
   "outputs": [
    {
     "data": {
      "text/plain": [
       "array([[10, 20, 30],\n",
       "       [40, 50, 60]])"
      ]
     },
     "execution_count": 49,
     "metadata": {},
     "output_type": "execute_result"
    }
   ],
   "source": [
    "A"
   ]
  },
  {
   "cell_type": "code",
   "execution_count": 50,
   "id": "e439b4d6",
   "metadata": {},
   "outputs": [
    {
     "data": {
      "text/plain": [
       "array([[10., 20., 30.],\n",
       "       [40., 50., 60.]])"
      ]
     },
     "execution_count": 50,
     "metadata": {},
     "output_type": "execute_result"
    }
   ],
   "source": [
    "A.dot(np.eye(3)) # (2,3) x (3,3)"
   ]
  },
  {
   "cell_type": "code",
   "execution_count": 51,
   "id": "22ddfaf1",
   "metadata": {},
   "outputs": [
    {
     "data": {
      "text/plain": [
       "array([[10., 20., 30.],\n",
       "       [40., 50., 60.]])"
      ]
     },
     "execution_count": 51,
     "metadata": {},
     "output_type": "execute_result"
    }
   ],
   "source": [
    "np.eye(2).dot(A) # (2,2) x (2,3)"
   ]
  },
  {
   "cell_type": "markdown",
   "id": "563e8cab",
   "metadata": {},
   "source": [
    "**Precaución**: el operador `*` de NumPy realiza multiplicaciones por elementos, *NO* una multiplicación de matrices: Estudien Broadcasting"
   ]
  },
  {
   "cell_type": "code",
   "execution_count": 52,
   "id": "ff4787ce",
   "metadata": {},
   "outputs": [
    {
     "data": {
      "text/plain": [
       "array([[ 10,  40,  90],\n",
       "       [160, 250, 360]])"
      ]
     },
     "execution_count": 52,
     "metadata": {},
     "output_type": "execute_result"
    }
   ],
   "source": [
    "B = np.array([[1,2,3], [4, 5, 6]])\n",
    "\n",
    "A * B   # NO es una multiplicación de matrices, pero puede ser muy útil en programación!"
   ]
  },
  {
   "cell_type": "markdown",
   "id": "41e531f9",
   "metadata": {},
   "source": [
    "**¿Cómo obtengo matrices triviales (nulas)?**"
   ]
  },
  {
   "cell_type": "markdown",
   "id": "e1269884",
   "metadata": {},
   "source": [
    "## El operador infijo @\n",
    "\n",
    "Python 3.5 [introdujo](https://docs.python.org/3/whatsnew/3.5.html#pep-465-a-dedicated-infix-operator-for-matrix-multiplication) el operador infijo `@` para la multiplicación de matrices, y NumPy 1.10 agregó soporte para ello. Si está utilizando Python 3.5+ y NumPy 1.10+, simplemente puede escribir `A @ D` en lugar de `A.dot(D)`, lo que hace que su código sea mucho más legible (pero menos portátil). **Este operador también funciona para productos de puntos vectoriales**.\n",
    "\n",
    "<br>\n",
    "\n",
    "**Aclaración:** la notación infija de un operador (la notación no cambia lo que hace el operador) es simplemente un operador que se escribe entre los operandos. Por ejemplo:\n",
    "\n",
    "`add(2, 3)` puede escribirse simplemente como `2+3`. El `+` es un infix operator.\n",
    "\n",
    "<br>\n",
    "\n",
    "Veamos qué tenemos instalado:"
   ]
  },
  {
   "cell_type": "code",
   "execution_count": 53,
   "id": "6cdf9be8",
   "metadata": {},
   "outputs": [
    {
     "name": "stdout",
     "output_type": "stream",
     "text": [
      "Python version: 3.11.5\n",
      "Numpy version: 1.25.2\n",
      "\n",
      "[[ True  True  True  True]\n",
      " [ True  True  True  True]]\n"
     ]
    }
   ],
   "source": [
    "import sys\n",
    "print(\"Python version: {}.{}.{}\".format(*sys.version_info))\n",
    "print(\"Numpy version:\", np.version.version)\n",
    "\n",
    "# Descomente la siguiente línea si su versión de Python es ≥3.5\n",
    "# y su versión de NumPy es ≥1.10:\n",
    "\n",
    "print()\n",
    "print(A @ D == E)"
   ]
  },
  {
   "cell_type": "markdown",
   "id": "fa7e50d8",
   "metadata": {},
   "source": [
    "Nota: `Q @ R` es en realidad equivalente a `Q.__matmul__(R)`, que NumPy implementa como `np.matmul(Q, R)`, no como `Q.dot(R)`. La principal diferencia es que `matmul` no soporta la multiplicación escalar, mientras que `dot` sí, así que puedes escribir `Q.dot(3)`, que es equivalente a `Q * 3`, pero no puedes escribir `Q @ 3` ([más detalles](http://stackoverflow.com/a/34142617/38626))."
   ]
  },
  {
   "cell_type": "markdown",
   "id": "ca28918f",
   "metadata": {},
   "source": [
    "## Matriz transpuesta\n",
    "\n",
    "La transpuesta de una matriz $M$ es una matriz denominada $M^T$ tal que la fila $i^{th}$ en $M^T$ es igual a la columna $i^{th}$ en $M$ :\n",
    "\n",
    "$$ A^T =\n",
    "\\begin{bmatrix}\n",
    "  10 & 20 & 30 \\\\\n",
    "  40 & 50 & 60\n",
    "\\end{bmatrix}^T =\n",
    "\\begin{bmatrix}\n",
    "  10 & 40 \\\\\n",
    "  20 & 50 \\\\\n",
    "  30 & 60\n",
    "\\end{bmatrix}$$\n",
    "\n",
    "En otras palabras, ($A^T)_{i,j}$ = $A_{j,i}$\n",
    "\n",
    "Obviamente, si $M$ es una matriz $m \\times n$, entonces $M^T$ es una matriz $n \\times m$.\n",
    "\n",
    "Nota: hay algunas otras notaciones, como $M^t$, $M^′$ o ${^t}M$.\n",
    "\n",
    "En NumPy, la transposición de una matriz se puede obtener simplemente usando el atributo `T`:"
   ]
  },
  {
   "cell_type": "code",
   "execution_count": 54,
   "id": "be5f3eee",
   "metadata": {},
   "outputs": [
    {
     "data": {
      "text/plain": [
       "array([[10, 20, 30],\n",
       "       [40, 50, 60]])"
      ]
     },
     "execution_count": 54,
     "metadata": {},
     "output_type": "execute_result"
    }
   ],
   "source": [
    "A"
   ]
  },
  {
   "cell_type": "code",
   "execution_count": 55,
   "id": "9bc44abd",
   "metadata": {},
   "outputs": [
    {
     "data": {
      "text/plain": [
       "array([[10, 40],\n",
       "       [20, 50],\n",
       "       [30, 60]])"
      ]
     },
     "execution_count": 55,
     "metadata": {},
     "output_type": "execute_result"
    }
   ],
   "source": [
    "A.T"
   ]
  },
  {
   "cell_type": "code",
   "execution_count": 56,
   "id": "81e35106",
   "metadata": {},
   "outputs": [
    {
     "data": {
      "text/plain": [
       "array([[10, 20, 30],\n",
       "       [40, 50, 60]])"
      ]
     },
     "execution_count": 56,
     "metadata": {},
     "output_type": "execute_result"
    }
   ],
   "source": [
    "A.T.T"
   ]
  },
  {
   "cell_type": "markdown",
   "id": "23225f20",
   "metadata": {},
   "source": [
    "- La transposición es distributiva sobre la suma de matrices, lo que significa que $(Q + R)^T = Q^T + R^T$\n",
    "\n",
    "\n",
    "- $(Q \\cdot R)^T = R^T \\cdot Q^T$. Tenga en cuenta que el orden es inverso.\n",
    " "
   ]
  },
  {
   "cell_type": "code",
   "execution_count": 57,
   "id": "3ab33dcb",
   "metadata": {},
   "outputs": [
    {
     "name": "stdout",
     "output_type": "stream",
     "text": [
      "[[ 930 2010]\n",
      " [1160 2510]\n",
      " [1320 2910]\n",
      " [1560 3450]]\n",
      "\n",
      "[[ 930 2010]\n",
      " [1160 2510]\n",
      " [1320 2910]\n",
      " [1560 3450]]\n"
     ]
    }
   ],
   "source": [
    "print((A.dot(D)).T)\n",
    "print()\n",
    "print(D.T.dot(A.T))"
   ]
  },
  {
   "cell_type": "markdown",
   "id": "4ff7ef99",
   "metadata": {},
   "source": [
    "Una **matriz simétrica** $M$ se define como una matriz que es igual a su traspuesta: $M^T = M$. Esta definición implica que debe ser una matriz cuadrada cuyos elementos sean simétricos con respecto a la diagonal principal, por ejemplo:\n",
    "\n",
    "\\begin{bmatrix}\n",
    "  17 & 22 & 27 & 49 \\\\\n",
    "  22 & 29 & 36 & 0 \\\\\n",
    "  27 & 36 & 45 & 2 \\\\\n",
    "  49 & 0 & 2 & 99\n",
    "\\end{bmatrix}\n",
    "\n",
    "El producto de una matriz por su transpuesta siempre es una matriz simétrica, por ejemplo:"
   ]
  },
  {
   "cell_type": "code",
   "execution_count": 124,
   "id": "63429f8e",
   "metadata": {},
   "outputs": [
    {
     "data": {
      "text/plain": [
       "array([[ 2,  3,  5,  7],\n",
       "       [11, 13, 17, 19],\n",
       "       [23, 29, 31, 37]])"
      ]
     },
     "execution_count": 124,
     "metadata": {},
     "output_type": "execute_result"
    }
   ],
   "source": [
    "D"
   ]
  },
  {
   "cell_type": "code",
   "execution_count": 125,
   "id": "0b960bf8",
   "metadata": {},
   "outputs": [
    {
     "data": {
      "text/plain": [
       "array([[  87,  279,  547],\n",
       "       [ 279,  940, 1860],\n",
       "       [ 547, 1860, 3700]])"
      ]
     },
     "execution_count": 125,
     "metadata": {},
     "output_type": "execute_result"
    }
   ],
   "source": [
    "D.dot(D.T)"
   ]
  },
  {
   "cell_type": "markdown",
   "id": "547175e8",
   "metadata": {},
   "source": [
    "## Conversión de matrices 1D en matrices 2D en NumPy\n",
    "\n",
    "Como mencionamos anteriormente, en NumPy (a diferencia de Matlab, por ejemplo), 1D realmente significa 1D: no existe tal cosa como una matriz 1D vertical o una matriz 1D horizontal. Por lo tanto, no debería sorprenderse al ver que la transposición de una matriz 1D no hace nada:"
   ]
  },
  {
   "cell_type": "code",
   "execution_count": 126,
   "id": "0fc7ce65",
   "metadata": {},
   "outputs": [
    {
     "data": {
      "text/plain": [
       "array([2, 5])"
      ]
     },
     "execution_count": 126,
     "metadata": {},
     "output_type": "execute_result"
    }
   ],
   "source": [
    "u = np.array([2, 5])\n",
    "u"
   ]
  },
  {
   "cell_type": "code",
   "execution_count": 60,
   "id": "c3bf813a",
   "metadata": {},
   "outputs": [
    {
     "data": {
      "text/plain": [
       "array([2, 5])"
      ]
     },
     "execution_count": 60,
     "metadata": {},
     "output_type": "execute_result"
    }
   ],
   "source": [
    "u.T"
   ]
  },
  {
   "cell_type": "markdown",
   "id": "59b92e85",
   "metadata": {},
   "source": [
    "Queremos convertir $\\textbf{u}$ en un vector fila antes de transponerlo. Hay algunas maneras de hacer esto:"
   ]
  },
  {
   "cell_type": "code",
   "execution_count": 61,
   "id": "f4093710",
   "metadata": {},
   "outputs": [
    {
     "data": {
      "text/plain": [
       "array([[2, 5]])"
      ]
     },
     "execution_count": 61,
     "metadata": {},
     "output_type": "execute_result"
    }
   ],
   "source": [
    "u_row = np.array([u])\n",
    "u_row"
   ]
  },
  {
   "cell_type": "markdown",
   "id": "d1b4c39b",
   "metadata": {},
   "source": [
    "Observe los corchetes adicionales: esta es una matriz 2D con solo una fila (es decir, una matriz de 1x2). En otras palabras, realmente es un **vector de fila**.\n",
    "\n",
    "Otra forma es usando `np.newaxis`, lo cual genera un nuevo eje y pone los elementos de **u** en las columnas:"
   ]
  },
  {
   "cell_type": "code",
   "execution_count": 62,
   "id": "881a78e1",
   "metadata": {},
   "outputs": [
    {
     "data": {
      "text/plain": [
       "array([[2, 5]])"
      ]
     },
     "execution_count": 62,
     "metadata": {},
     "output_type": "execute_result"
    }
   ],
   "source": [
    "u[np.newaxis, :]"
   ]
  },
  {
   "cell_type": "markdown",
   "id": "6991abbd",
   "metadata": {},
   "source": [
    "Observe los corchetes adicionales: esta es una matriz 2D con solo una fila (es decir, una matriz de 1x2). En otras palabras, realmente es un **vector de fila**.\n",
    "\n",
    "Una tercera manera es la siguiente:"
   ]
  },
  {
   "cell_type": "code",
   "execution_count": 63,
   "id": "1f1c0f87",
   "metadata": {},
   "outputs": [
    {
     "data": {
      "text/plain": [
       "array([[2, 5]])"
      ]
     },
     "execution_count": 63,
     "metadata": {},
     "output_type": "execute_result"
    }
   ],
   "source": [
    "u[np.newaxis]"
   ]
  },
  {
   "cell_type": "markdown",
   "id": "c73b77ad",
   "metadata": {},
   "source": [
    "Esto es equivalente, pero un poco menos explícito.\n",
    "\n",
    "Ahora transpongamos nuestro vector fila:"
   ]
  },
  {
   "cell_type": "code",
   "execution_count": 64,
   "id": "d2164f13",
   "metadata": {},
   "outputs": [
    {
     "data": {
      "text/plain": [
       "array([[2],\n",
       "       [5]])"
      ]
     },
     "execution_count": 64,
     "metadata": {},
     "output_type": "execute_result"
    }
   ],
   "source": [
    "u_row.T"
   ]
  },
  {
   "cell_type": "markdown",
   "id": "1ea3d15e",
   "metadata": {},
   "source": [
    "¡Genial! Ahora tenemos un **vector de columna**.\n",
    "\n",
    "En lugar de crear un vector de fila y luego transponerlo, también es posible convertir una matriz 1D directamente en un vector de columna:"
   ]
  },
  {
   "cell_type": "code",
   "execution_count": 65,
   "id": "5b111124",
   "metadata": {},
   "outputs": [
    {
     "data": {
      "text/plain": [
       "array([[2],\n",
       "       [5]])"
      ]
     },
     "execution_count": 65,
     "metadata": {},
     "output_type": "execute_result"
    }
   ],
   "source": [
    "u[:, np.newaxis]"
   ]
  },
  {
   "cell_type": "markdown",
   "id": "e228b381",
   "metadata": {},
   "source": [
    "## Graficar una matriz\n",
    "\n",
    "Ya hemos visto que los vectores se pueden representar como puntos o flechas en un espacio N-dimensional. ¿Existe una buena representación gráfica de las matrices? Sí; simplemente puede ver una matriz como una lista de vectores, por lo que trazar una matriz da como resultado muchos puntos o flechas. Por ejemplo, creemos una matriz `P` de $2 \\times 4$ y representémosla como puntos:"
   ]
  },
  {
   "cell_type": "code",
   "execution_count": 66,
   "id": "2bcbdaad",
   "metadata": {},
   "outputs": [
    {
     "data": {
      "image/png": "[encoded data removed]",
      "text/plain": [
       "<Figure size 640x480 with 1 Axes>"
      ]
     },
     "metadata": {},
     "output_type": "display_data"
    }
   ],
   "source": [
    "import matplotlib.pyplot as plt\n",
    "\n",
    "# Para poder dibujar esta matriz, pensemosla como 4 vectores columna!\n",
    "P = np.array([\n",
    "        [3.0, 4.0, 1.0, 4.6],\n",
    "        [0.2, 3.5, 2.0, 0.5]\n",
    "    ])\n",
    "x_coords_P, y_coords_P = P\n",
    "plt.scatter(x_coords_P, y_coords_P)\n",
    "plt.axis([0, 5, 0, 4])\n",
    "plt.show()"
   ]
  },
  {
   "cell_type": "markdown",
   "id": "ca3edb0c",
   "metadata": {},
   "source": [
    "Por supuesto, también podríamos haber almacenado los mismos 4 vectores como vectores de fila en lugar de vectores de columna, dando como resultado una matriz de $4 \\times 2$ (la transpuesta de $P$, de hecho). Es realmente una elección arbitraria.\n",
    "\n",
    "Como los vectores están ordenados, puedes ver la matriz como un camino y representarla con puntos conectados:"
   ]
  },
  {
   "cell_type": "code",
   "execution_count": 67,
   "id": "df45f178",
   "metadata": {},
   "outputs": [
    {
     "data": {
      "image/png": "[encoded data removed]",
      "text/plain": [
       "<Figure size 640x480 with 1 Axes>"
      ]
     },
     "metadata": {},
     "output_type": "display_data"
    }
   ],
   "source": [
    "plt.plot(x_coords_P, y_coords_P, \"bo\")\n",
    "plt.plot(x_coords_P, y_coords_P, \"b--\")\n",
    "plt.axis([0, 5, 0, 4])\n",
    "plt.grid()\n",
    "plt.show()"
   ]
  },
  {
   "cell_type": "markdown",
   "id": "8ac3e337",
   "metadata": {},
   "source": [
    "O puede representarlo como un polígono: la clase `Polygon` de matplotlib espera una matriz $n \\times 2$ NumPy, no una matriz $2 \\times n$, por lo que solo necesitamos darle $P^T$:"
   ]
  },
  {
   "cell_type": "code",
   "execution_count": 68,
   "id": "dde89749",
   "metadata": {},
   "outputs": [
    {
     "data": {
      "image/png": "[encoded data removed]",
      "text/plain": [
       "<Figure size 640x480 with 1 Axes>"
      ]
     },
     "metadata": {},
     "output_type": "display_data"
    }
   ],
   "source": [
    "from matplotlib.patches import Polygon\n",
    "plt.gca().add_artist(Polygon(P.T))\n",
    "plt.axis([0, 5, 0, 4])\n",
    "plt.grid()\n",
    "plt.show()"
   ]
  },
  {
   "cell_type": "markdown",
   "id": "adef066a",
   "metadata": {},
   "source": [
    "Esta es (para mí) la forma más natural (entendible) para representar una matriz gráficamente. Vamos a entender a las matrices como polígonos, i.e. como figuras cuyas esquinas están almacenadas en la matriz como vectores."
   ]
  },
  {
   "cell_type": "markdown",
   "id": "a2e2e42d",
   "metadata": {},
   "source": [
    "## Aplicaciones geométricas de operaciones matriciales\n",
    "\n",
    "Vimos anteriormente que la suma de vectores da como resultado una *traslación geométrica*, la multiplicación de vectores por un escalar da como resultado un *reescalado* (acercamiento o alejamiento, centrado en el origen), y el producto punto vectorial da como resultado la *proyección* de un vector sobre otro vector, *el reescalado y la medición del resultado*. \n",
    "\n",
    "De manera similar, las operaciones matriciales tienen aplicaciones geométricas muy útiles.\n",
    "\n",
    "\n",
    "### Suma = múltiples traslaciones geométricas\n",
    "\n",
    "Primero, sumar dos matrices es equivalente a sumar todos sus vectores. Por ejemplo, vamos a crear una matriz $H$ de $2 \\times 4$, sumarla a $P$, y ver el resultado:"
   ]
  },
  {
   "cell_type": "code",
   "execution_count": 69,
   "id": "071c68e7",
   "metadata": {},
   "outputs": [],
   "source": [
    "def plot_vector2d(vector2d, origin=[0, 0], **options):\n",
    "    return plt.arrow(origin[0], origin[1], vector2d[0], vector2d[1],\n",
    "              head_width=0.2, head_length=0.3, length_includes_head=True,\n",
    "              **options)"
   ]
  },
  {
   "cell_type": "code",
   "execution_count": 70,
   "id": "61049246",
   "metadata": {
    "scrolled": true
   },
   "outputs": [
    {
     "data": {
      "image/png": "[encoded data removed]",
      "text/plain": [
       "<Figure size 640x480 with 1 Axes>"
      ]
     },
     "metadata": {},
     "output_type": "display_data"
    }
   ],
   "source": [
    "H = np.array([\n",
    "        [ 0.5, -0.2, 0.2, -0.1],\n",
    "        [ 0.4,  0.4, 1.5, 0.6]\n",
    "    ])\n",
    "\n",
    "# La matriz H es la que genera la traslación de P. \n",
    "# Cada punto de P se traslada lo dictado por las columnas de H.\n",
    "P_moved = P + H\n",
    "\n",
    "plt.gca().add_artist(Polygon(P.T, alpha=0.2))\n",
    "plt.gca().add_artist(Polygon(P_moved.T, alpha=0.3, color=\"r\"))\n",
    "for vector, origin in zip(H.T, P.T):\n",
    "    plot_vector2d(vector, origin=origin)\n",
    "\n",
    "plt.text(2.2, 1.8, \"$P$\", color=\"b\", fontsize=18)\n",
    "plt.text(2.0, 3.2, \"$P+H$\", color=\"r\", fontsize=18)\n",
    "plt.text(2.5, 0.5, \"$H_{*,1}$\", color=\"k\", fontsize=18)\n",
    "plt.text(4.1, 3.5, \"$H_{*,2}$\", color=\"k\", fontsize=18)\n",
    "plt.text(0.4, 2.6, \"$H_{*,3}$\", color=\"k\", fontsize=18)\n",
    "plt.text(4.4, 0.2, \"$H_{*,4}$\", color=\"k\", fontsize=18)\n",
    "\n",
    "plt.axis([0, 5, 0, 4])\n",
    "plt.grid()\n",
    "plt.show()"
   ]
  },
  {
   "cell_type": "markdown",
   "id": "1f17eaa5",
   "metadata": {},
   "source": [
    "Si sumamos una matriz llena de vectores idénticos, obtenemos una traslación geométrica simple (sin deformaciones):"
   ]
  },
  {
   "cell_type": "code",
   "execution_count": 72,
   "id": "75f86ff3",
   "metadata": {},
   "outputs": [
    {
     "data": {
      "image/png": "[encoded data removed]",
      "text/plain": [
       "<Figure size 640x480 with 1 Axes>"
      ]
     },
     "metadata": {},
     "output_type": "display_data"
    }
   ],
   "source": [
    "H2 = np.array([\n",
    "        [-0.5, -0.5, -0.5, -0.5],\n",
    "        [ 0.4,  0.4,  0.4,  0.4]\n",
    "    ])\n",
    "P_translated = P + H2\n",
    "\n",
    "plt.gca().add_artist(Polygon(P.T, alpha=0.2))\n",
    "plt.gca().add_artist(Polygon(P_translated.T, alpha=0.3, color=\"r\"))\n",
    "for vector, origin in zip(H2.T, P.T):\n",
    "    plot_vector2d(vector, origin=origin)\n",
    "\n",
    "plt.axis([0, 5, 0, 4])\n",
    "plt.grid()\n",
    "plt.show()"
   ]
  },
  {
   "cell_type": "markdown",
   "id": "320483b8",
   "metadata": {},
   "source": [
    "Aunque las matrices solo se pueden sumar si tienen el mismo tamaño, NumPy permite agregar un vector de fila o un vector de columna a una matriz: esto se denomina *broadcasting*. \n",
    "\n",
    "**¿Cuál es la dimensión de P?**\n",
    "\n",
    "**¿Y la dimensión de [[-0.5], [0.4]]?**\n",
    "\n",
    "**¿Puedo sumarlos?**\n",
    "\n",
    "Podríamos haber obtenido el mismo resultado que el anterior con:"
   ]
  },
  {
   "cell_type": "code",
   "execution_count": 81,
   "id": "69701ed2",
   "metadata": {},
   "outputs": [
    {
     "name": "stdout",
     "output_type": "stream",
     "text": [
      "P es de dim (2, 4):\n",
      "[[3.  4.  1.  4.6]\n",
      " [0.2 3.5 2.  0.5]]\n",
      "\n",
      "H2 es de dim (2, 4):\n",
      "[[-0.5 -0.5 -0.5 -0.5]\n",
      " [ 0.4  0.4  0.4  0.4]]\n",
      "\n",
      "P_translated = P + H2 es de dim (2, 4):\n",
      "[[2.5 3.5 0.5 4.1]\n",
      " [0.6 3.9 2.4 0.9]]\n",
      "\n",
      "[[-0.5], [0.4]] es de dim (2,1)\n"
     ]
    }
   ],
   "source": [
    "print(f'P es de dim {P.shape}:')\n",
    "print(P)\n",
    "print()\n",
    "print(f'H2 es de dim {H2.shape}:')\n",
    "print(H2)\n",
    "print()\n",
    "print(f'P_translated = P + H2 es de dim {P_translated.shape}:')\n",
    "print(P_translated)\n",
    "print()\n",
    "print([[-0.5], [0.4]], 'es de dim (2,1)')"
   ]
  },
  {
   "cell_type": "code",
   "execution_count": 41,
   "id": "a5fe325c",
   "metadata": {},
   "outputs": [
    {
     "data": {
      "text/plain": [
       "array([[2.5, 3.5, 0.5, 4.1],\n",
       "       [0.6, 3.9, 2.4, 0.9]])"
      ]
     },
     "execution_count": 41,
     "metadata": {},
     "output_type": "execute_result"
    }
   ],
   "source": [
    "P + [[-0.5], [0.4]]  # igual que P + H2, gracias al broadcast de NumPy"
   ]
  },
  {
   "cell_type": "markdown",
   "id": "9239c355",
   "metadata": {},
   "source": [
    "Otra posibilidad de hacer *broadcasting*!"
   ]
  },
  {
   "cell_type": "code",
   "execution_count": 127,
   "id": "7360efde",
   "metadata": {},
   "outputs": [
    {
     "name": "stdout",
     "output_type": "stream",
     "text": [
      "[[3.  4.  1.  4.6]\n",
      " [0.2 3.5 2.  0.5]]\n",
      "[[4.  6.  4.  8.6]\n",
      " [1.2 5.5 5.  4.5]]\n",
      "\n",
      "ValueError: operands could not be broadcast together with shapes (2,4) (2,) \n"
     ]
    }
   ],
   "source": [
    "print(P)\n",
    "print(P + [1,2,3,4])\n",
    "print()\n",
    "try:\n",
    "    P + [1,2]\n",
    "except ValueError as e:\n",
    "    print(\"ValueError:\", e)"
   ]
  },
  {
   "cell_type": "markdown",
   "id": "e93a3672",
   "metadata": {},
   "source": [
    "El *broadcasting* depende del lenguaje de programación. Por ejemplo la última sentencia es correcta si programaramos en R. Este lenguaje entiende que 2 es múltiplo de 4 y aplica dos veces el vector para la suma (sumaría [1,2,1,2]).\n",
    "\n",
    "Incluso podría sumar un vector no múltiplo exacto; p.e. [1,2,3]. En este caso sumaría [1,2,3,1], repitiendo hasta alcanzar la dimensión correcta. En este caso, R nos proporciona un warning alertando la no coincidencia de dimensionalidad!"
   ]
  },
  {
   "cell_type": "markdown",
   "id": "ada43d21",
   "metadata": {},
   "source": [
    "**¿Se llega a comprender el poder de esto?**\n",
    "\n",
    "<img src=\"https://media1.tenor.com/m/Ikq_Qjw7pioAAAAd/spiderman-peter-parker.gif\" width=\"400\" alt=\"Spiderman walking away\">"
   ]
  },
  {
   "cell_type": "markdown",
   "id": "063f84aa",
   "metadata": {},
   "source": [
    "Esto ya lo vimos al operar con vectores, recuerdan?"
   ]
  },
  {
   "cell_type": "code",
   "execution_count": 98,
   "id": "d8be6afd",
   "metadata": {},
   "outputs": [
    {
     "data": {
      "text/plain": [
       "array([4, 7])"
      ]
     },
     "execution_count": 98,
     "metadata": {},
     "output_type": "execute_result"
    }
   ],
   "source": [
    "u = np.array([2, 5])\n",
    "u + 2"
   ]
  },
  {
   "cell_type": "markdown",
   "id": "9fb53ae5",
   "metadata": {},
   "source": [
    "Es equivalente a realizar lo siguiente, pero en una notación mucho mas compacta:"
   ]
  },
  {
   "cell_type": "code",
   "execution_count": 99,
   "id": "9a5b4e1a",
   "metadata": {},
   "outputs": [
    {
     "data": {
      "text/plain": [
       "array([4, 7])"
      ]
     },
     "execution_count": 99,
     "metadata": {},
     "output_type": "execute_result"
    }
   ],
   "source": [
    "u + np.array([2, 2])"
   ]
  },
  {
   "cell_type": "markdown",
   "id": "86e5ee3a",
   "metadata": {},
   "source": [
    "Ojo con el *broadcasting* porque es más difícil que ciertos errores (*bugs*) pasen desapercibidos!"
   ]
  },
  {
   "cell_type": "markdown",
   "id": "3d9892e6",
   "metadata": {},
   "source": [
    "### Multiplicación por un escalar\n",
    "\n",
    "Al multiplicar una matriz por un escalar, todos sus vectores se multiplican por ese escalar, por lo que, como era de esperar, el resultado geométrico es un cambio de escala de toda la figura. Por ejemplo, cambiemos la escala de nuestro polígono por un factor del 60 % (acercándose, centrado en el origen, un 60%):"
   ]
  },
  {
   "cell_type": "code",
   "execution_count": 130,
   "id": "7fb84b92",
   "metadata": {},
   "outputs": [
    {
     "data": {
      "image/png": "[encoded data removed]",
      "text/plain": [
       "<Figure size 640x480 with 1 Axes>"
      ]
     },
     "metadata": {},
     "output_type": "display_data"
    }
   ],
   "source": [
    "def plot_transformation(P_before, P_after, text_before, text_after, axis = [0, 5, 0, 4], arrows=False):\n",
    "    if arrows:\n",
    "        for vector_before, vector_after in zip(P_before.T, P_after.T):\n",
    "            plot_vector2d(vector_before, color=\"blue\", linestyle=\"--\")\n",
    "            plot_vector2d(vector_after, color=\"red\", linestyle=\"-\")\n",
    "    plt.gca().add_artist(Polygon(P_before.T, alpha=0.2))\n",
    "    plt.gca().add_artist(Polygon(P_after.T, alpha=0.3, color=\"r\"))\n",
    "    plt.text(P_before[0].mean(), P_before[1].mean(), text_before, fontsize=18, color=\"blue\")\n",
    "    plt.text(P_after[0].mean(), P_after[1].mean(), text_after, fontsize=18, color=\"red\")\n",
    "    plt.axis(axis)\n",
    "    plt.grid()\n",
    "\n",
    "P_rescaled = 0.60 * P\n",
    "plot_transformation(P, P_rescaled, \"$P$\", \"$0.6 P$\", arrows=True)\n",
    "plt.show()"
   ]
  },
  {
   "cell_type": "markdown",
   "id": "92a5f5ea",
   "metadata": {},
   "source": [
    "### Multiplicación de matrices – Proyección sobre un eje\n",
    "\n",
    "La multiplicación de matrices es más compleja de visualizar, pero también es la herramienta más poderosa de la caja.\n",
    "\n",
    "Comencemos de manera simple, definiendo una matriz de $1 \\times 2$, $U = \\begin{bmatrix} 1 & 0 \\end{bmatrix}$. Este vector fila es simplemente el vector unitario horizontal."
   ]
  },
  {
   "cell_type": "code",
   "execution_count": 96,
   "id": "f9a525ba",
   "metadata": {},
   "outputs": [
    {
     "name": "stdout",
     "output_type": "stream",
     "text": [
      "La matriz U es:\n",
      "[[1 0]]\n",
      "\n",
      "La matriz P es:\n",
      "[[3.  4.  1.  4.6]\n",
      " [0.2 3.5 2.  0.5]]\n"
     ]
    }
   ],
   "source": [
    "U = np.array([[1, 0]])\n",
    "\n",
    "print('La matriz U es:')\n",
    "print(U)\n",
    "print()\n",
    "print('La matriz P es:')\n",
    "print(P)"
   ]
  },
  {
   "cell_type": "markdown",
   "id": "84f9be49",
   "metadata": {},
   "source": [
    "Ahora veamos el producto escalar $U \\cdot P$:"
   ]
  },
  {
   "cell_type": "code",
   "execution_count": 95,
   "id": "b573b37a",
   "metadata": {},
   "outputs": [
    {
     "data": {
      "text/plain": [
       "array([[3. , 4. , 1. , 4.6]])"
      ]
     },
     "execution_count": 95,
     "metadata": {},
     "output_type": "execute_result"
    }
   ],
   "source": [
    "U.dot(P)"
   ]
  },
  {
   "cell_type": "markdown",
   "id": "f6012922",
   "metadata": {},
   "source": [
    "Estas son las coordenadas horizontales de los vectores en $P$. En otras palabras, acabamos de proyectar $P$ en el eje horizontal:"
   ]
  },
  {
   "cell_type": "code",
   "execution_count": 97,
   "id": "1abb451f",
   "metadata": {},
   "outputs": [
    {
     "data": {
      "image/png": "[encoded data removed]",
      "text/plain": [
       "<Figure size 640x480 with 1 Axes>"
      ]
     },
     "metadata": {},
     "output_type": "display_data"
    }
   ],
   "source": [
    "def plot_projection(U, P):\n",
    "    U_P = U.dot(P)\n",
    "    # la transformación es a izquierda\n",
    "    # recuerden que no es conmutativa\n",
    "    \n",
    "    axis_end = 100 * U\n",
    "    plot_vector2d(axis_end[0], color=\"black\")\n",
    "\n",
    "    plt.gca().add_artist(Polygon(P.T, alpha=0.2))\n",
    "    for vector, proj_coordinate in zip(P.T, U_P.T):\n",
    "        proj_point = proj_coordinate * U\n",
    "        plt.plot(proj_point[0][0], proj_point[0][1], \"ro\")\n",
    "        plt.plot([vector[0], proj_point[0][0]], [vector[1], proj_point[0][1]], \"r--\")\n",
    "\n",
    "    plt.axis([0, 5, 0, 4])\n",
    "    plt.grid()\n",
    "    plt.show()\n",
    "\n",
    "plot_projection(U, P)"
   ]
  },
  {
   "cell_type": "markdown",
   "id": "b55e4fef",
   "metadata": {},
   "source": [
    "¿Está claro por qué el eje X es más oscuro?\n",
    "\n",
    "**Por las dimensiones de la matriz (vector) resultante!**"
   ]
  },
  {
   "cell_type": "markdown",
   "id": "647a6c39",
   "metadata": {},
   "source": [
    "También podemos proyectar en cualquier otro eje simplemente reemplazando $U$ con cualquier otro vector unitario. Por ejemplo, proyectemos sobre el eje que está en un ángulo de 30° sobre el eje horizontal:"
   ]
  },
  {
   "cell_type": "code",
   "execution_count": 100,
   "id": "5c9938b3",
   "metadata": {},
   "outputs": [
    {
     "data": {
      "image/png": "[encoded data removed]",
      "text/plain": [
       "<Figure size 640x480 with 1 Axes>"
      ]
     },
     "metadata": {},
     "output_type": "display_data"
    }
   ],
   "source": [
    "angle30 = 30 * np.pi / 180  # angle in radians\n",
    "U_30 = np.array([[np.cos(angle30), np.sin(angle30)]])\n",
    "\n",
    "plot_projection(U_30, P)"
   ]
  },
  {
   "cell_type": "markdown",
   "id": "287b0e84",
   "metadata": {},
   "source": [
    "¡Bien! Recuerda que el producto escalar de un vector unitario y una matriz básicamente realiza una proyección sobre un eje y nos da las coordenadas de los puntos resultantes sobre ese eje.\n",
    "\n",
    "**Vector unitario?! Y eso con qué se come?!**"
   ]
  },
  {
   "cell_type": "code",
   "execution_count": 141,
   "id": "f68175bc",
   "metadata": {},
   "outputs": [
    {
     "data": {
      "text/plain": [
       "1.0"
      ]
     },
     "execution_count": 141,
     "metadata": {},
     "output_type": "execute_result"
    }
   ],
   "source": [
    "import numpy.linalg as LA\n",
    "LA.norm(U_30)"
   ]
  },
  {
   "cell_type": "markdown",
   "id": "6e5ce6ac",
   "metadata": {},
   "source": [
    "¿Y una proyección sobre el eje vertical (eje Y)?"
   ]
  },
  {
   "cell_type": "code",
   "execution_count": 102,
   "id": "96f43027",
   "metadata": {},
   "outputs": [
    {
     "data": {
      "image/png": "[encoded data removed]",
      "text/plain": [
       "<Figure size 640x480 with 1 Axes>"
      ]
     },
     "metadata": {},
     "output_type": "display_data"
    }
   ],
   "source": [
    "plot_projection(np.array([[0, 1]]), P)"
   ]
  },
  {
   "cell_type": "markdown",
   "id": "a3e1d386",
   "metadata": {},
   "source": [
    "Si multiplico por una matriz de menor tamaño, el resultado es de menor tamaño.\n",
    "\n",
    "$$ \\mathbb{R}^{(n-1)\\times n} \\times \\mathbb{R}^{n\\times n} = \\mathbb{R}^{(n-1)\\times n} $$\n",
    "\n",
    "En este caso, \n",
    "\n",
    "$$ \\mathbb{R}^{1\\times 2} \\times \\mathbb{R}^{2\\times 2} = \\mathbb{R}^{1\\times 2} $$\n",
    "\n",
    "Y si multiplico por una matriz del mismo tamaño?"
   ]
  },
  {
   "cell_type": "markdown",
   "id": "bf026125",
   "metadata": {},
   "source": [
    "### Multiplicación de matrices – Rotación\n",
    "\n",
    "Ahora vamos a crear una matriz $V$ de $2 \\times 2$, que contenga dos vectores unitarios que formen ángulos de 30° y 120° con el eje horizontal (o 30° con la vertical; i.e. 30°+90°):\n",
    "\n",
    "$V = \\begin{bmatrix} \\cos(30°) & \\sin(30°) \\\\ \\cos(120°) & \\sin(120°) \\end{bmatrix}$"
   ]
  },
  {
   "cell_type": "code",
   "execution_count": 103,
   "id": "28461fad",
   "metadata": {},
   "outputs": [
    {
     "data": {
      "text/plain": [
       "array([[ 0.8660254,  0.5      ],\n",
       "       [-0.5      ,  0.8660254]])"
      ]
     },
     "execution_count": 103,
     "metadata": {},
     "output_type": "execute_result"
    }
   ],
   "source": [
    "angle120 = 120 * np.pi / 180\n",
    "V = np.array([\n",
    "        [np.cos(angle30), np.sin(angle30)],\n",
    "        [np.cos(angle120), np.sin(angle120)]\n",
    "    ])\n",
    "V"
   ]
  },
  {
   "cell_type": "markdown",
   "id": "9cef686b",
   "metadata": {},
   "source": [
    "Veamos el producto $VP$:"
   ]
  },
  {
   "cell_type": "code",
   "execution_count": 104,
   "id": "c7d9dfb9",
   "metadata": {},
   "outputs": [
    {
     "data": {
      "text/plain": [
       "array([[ 2.69807621,  5.21410162,  1.8660254 ,  4.23371686],\n",
       "       [-1.32679492,  1.03108891,  1.23205081, -1.8669873 ]])"
      ]
     },
     "execution_count": 104,
     "metadata": {},
     "output_type": "execute_result"
    }
   ],
   "source": [
    "V.dot(P)"
   ]
  },
  {
   "cell_type": "markdown",
   "id": "e622f3cb",
   "metadata": {},
   "source": [
    "La primera fila es igual a $V_{1,*} P$, que son las coordenadas de la proyección de $P$ sobre el eje de 30°, como hemos visto anteriormente. La segunda fila es $V_{2,*} P$, que son las coordenadas de la proyección de $P$ en el eje de 120°. ¡Así que básicamente obtuvimos las coordenadas de $P$ después de rotar los ejes horizontal y vertical 30° (*o de manera equivalente después de rotar el polígono -30° alrededor del origen*)! \n",
    "\n",
    "Grafiquemos $VP$ para ver esto:"
   ]
  },
  {
   "cell_type": "code",
   "execution_count": 105,
   "id": "ebc63658",
   "metadata": {},
   "outputs": [
    {
     "data": {
      "image/png": "[encoded data removed]",
      "text/plain": [
       "<Figure size 640x480 with 1 Axes>"
      ]
     },
     "metadata": {},
     "output_type": "display_data"
    }
   ],
   "source": [
    "P_rotated = V.dot(P)\n",
    "plot_transformation(P, P_rotated, \"$P$\", \"$VP$\", [-2, 6, -2, 4], arrows=True)\n",
    "plt.show()"
   ]
  },
  {
   "cell_type": "markdown",
   "id": "0f7a7a4f",
   "metadata": {},
   "source": [
    "La matriz $V$ se llama **matriz de rotación**."
   ]
  },
  {
   "cell_type": "markdown",
   "id": "db388f3c",
   "metadata": {},
   "source": [
    "### Multiplicación de matrices – Otras transformaciones lineales\n",
    "En términos más generales, cualquier transformación lineal $f$ que mapee vectores n-dimensionales a vectores m-dimensionales puede representarse como una matriz $m \\times n$. Por ejemplo, digamos que $\\textbf{u}$ es un vector tridimensional:\n",
    "\n",
    "$\\textbf{u} = \\begin{pmatrix} x \\\\ y \\\\ z \\end{pmatrix} \\quad\\in \\mathbb{R}^{n=3,\\ 1}$\n",
    "\n",
    "y $f$ se define como:\n",
    "\n",
    "$f(\\textbf{u}) = \\begin{pmatrix}\n",
    "ax + by + cz \\\\\n",
    "dx + ey + fz\n",
    "\\end{pmatrix} \\quad\\in \\mathbb{R}^{m=2,\\ 1}$\n",
    "\n",
    "Esta transformación $f$ asigna vectores tridimensionales a vectores bidimensionales de forma lineal (es decir, las coordenadas resultantes solo implican sumas de múltiplos de las coordenadas originales). Podemos representar esta transformación como matriz $F$:\n",
    "\n",
    "$F = \\begin{bmatrix}\n",
    "a & b & c \\\\\n",
    "d & e & f\n",
    "\\end{bmatrix} \\quad\\in \\mathbb{R}^{m=2,\\ n=3}$\n",
    "\n",
    "Ahora, para calcular $f(\\textbf{u})$ simplemente podemos hacer una multiplicación de matrices:\n",
    "\n",
    "$f(\\textbf{u}) = F \\textbf{u} \\quad\\Rightarrow \\quad\\in \\mathbb{R}^{m=2,\\ 1}$\n",
    "\n",
    "donde la dimensionalidad resulta la esperada."
   ]
  },
  {
   "cell_type": "markdown",
   "id": "d674acc3",
   "metadata": {},
   "source": [
    "**Vamos con un ejemplo un poco mas complejo:**\n",
    "\n",
    "Si tenemos una matriz $G = \\begin{bmatrix}\\textbf{u}_1 & \\textbf{u}_2 & \\cdots & \\textbf{u}_q \\end{bmatrix}$, donde cada $\\textbf{u }_i$ es un vector columna tridimensional, entonces $FG$ da como resultado la transformación lineal de todos los vectores $\\textbf{u}_i$ como se define en la matriz $F$:\n",
    "\n",
    "$FG = \\begin{bmatrix}f(\\textbf{u}_1) & f(\\textbf{u}_2) & \\cdots & f(\\textbf{u}_q) \\end{bmatrix}$\n",
    "\n",
    "Para resumir, la matriz del lado izquierdo de un producto escalar especifica qué transformación lineal aplicar a los vectores del lado derecho. Ya hemos demostrado que esto se puede usar para realizar proyecciones y rotaciones, pero cualquier otra transformación lineal es posible. Por ejemplo, aquí hay una transformación conocida como **mapeo de corte**:"
   ]
  },
  {
   "cell_type": "code",
   "execution_count": 106,
   "id": "1af4f201",
   "metadata": {},
   "outputs": [
    {
     "data": {
      "image/png": "[encoded data removed]",
      "text/plain": [
       "<Figure size 640x480 with 1 Axes>"
      ]
     },
     "metadata": {},
     "output_type": "display_data"
    }
   ],
   "source": [
    "F_shear = np.array([\n",
    "        [1, 1.5],\n",
    "        [0, 1]\n",
    "    ])\n",
    "plot_transformation(P, F_shear.dot(P), \"$P$\", \"$F_{de\\, corte} P$\",\n",
    "                    axis=[0, 10, 0, 7])\n",
    "plt.show()"
   ]
  },
  {
   "cell_type": "markdown",
   "id": "7a3da7ff",
   "metadata": {},
   "source": [
    "Veamos cómo esta transformación afecta a una matriz que contiene los puntos de un **cuadrado unitario**:"
   ]
  },
  {
   "cell_type": "code",
   "execution_count": 107,
   "id": "6883d114",
   "metadata": {},
   "outputs": [
    {
     "data": {
      "image/png": "[encoded data removed]",
      "text/plain": [
       "<Figure size 640x480 with 1 Axes>"
      ]
     },
     "metadata": {},
     "output_type": "display_data"
    }
   ],
   "source": [
    "Square = np.array([\n",
    "        [0, 0, 1, 1],\n",
    "        [0, 1, 1, 0]\n",
    "    ])\n",
    "plot_transformation(Square, F_shear.dot(Square), \"$Square$\", \"$F_{de\\,corte} Square$\",\n",
    "                    axis=[0, 2.6, 0, 1.8])\n",
    "plt.show()"
   ]
  },
  {
   "cell_type": "markdown",
   "id": "d9d5ba0a",
   "metadata": {},
   "source": [
    "Ahora veamos un **mapeo de compresión**:"
   ]
  },
  {
   "cell_type": "code",
   "execution_count": 108,
   "id": "a9a8ba48",
   "metadata": {},
   "outputs": [
    {
     "data": {
      "image/png": "[encoded data removed]",
      "text/plain": [
       "<Figure size 640x480 with 1 Axes>"
      ]
     },
     "metadata": {},
     "output_type": "display_data"
    }
   ],
   "source": [
    "F_squeeze = np.array([\n",
    "        [1.4, 0],\n",
    "        [0, 1/1.4]\n",
    "    ])\n",
    "plot_transformation(P, F_squeeze.dot(P), \"$P$\", \"$F_{de\\, compresion} P$\",\n",
    "                    axis=[0, 7, 0, 5])\n",
    "plt.show()"
   ]
  },
  {
   "cell_type": "markdown",
   "id": "9bb76836",
   "metadata": {},
   "source": [
    "El efecto sobre el cuadrado unitario es:"
   ]
  },
  {
   "cell_type": "code",
   "execution_count": 144,
   "id": "7e9d89c8",
   "metadata": {},
   "outputs": [
    {
     "data": {
      "image/png": "[encoded data removed]",
      "text/plain": [
       "<Figure size 432x288 with 1 Axes>"
      ]
     },
     "metadata": {
      "needs_background": "light"
     },
     "output_type": "display_data"
    }
   ],
   "source": [
    "plot_transformation(Square, F_squeeze.dot(Square), \"$Square$\", \"$F_{de\\, compresion} Square$\",\n",
    "                    axis=[0, 1.8, 0, 1.2])\n",
    "plt.show()"
   ]
  },
  {
   "cell_type": "markdown",
   "id": "af41b9db",
   "metadata": {},
   "source": [
    "Mostremos una última: la reflexión a través del eje horizontal:"
   ]
  },
  {
   "cell_type": "code",
   "execution_count": 148,
   "id": "2bbee6d8",
   "metadata": {},
   "outputs": [
    {
     "data": {
      "image/png": "[encoded data removed]",
      "text/plain": [
       "<Figure size 432x288 with 1 Axes>"
      ]
     },
     "metadata": {
      "needs_background": "light"
     },
     "output_type": "display_data"
    }
   ],
   "source": [
    "F_reflect = np.array([\n",
    "        [1, 0],\n",
    "        [0, -1]\n",
    "    ])\n",
    "plot_transformation(P, F_reflect.dot(P), \"$P$\", \"$F_{reflexion} P$\",\n",
    "                    axis=[-2, 9, -4.5, 4.5])\n",
    "plt.show()"
   ]
  },
  {
   "cell_type": "markdown",
   "id": "d536ddf7",
   "metadata": {},
   "source": [
    "Si quisiese una reflexión respecto al eje vertical, la matriz de rotación sería:\n",
    "\n",
    "$\\begin{bmatrix}\n",
    "-1 & 0  \\\\\n",
    "0 & 1 \n",
    "\\end{bmatrix}$\n",
    "\n",
    "Y así hay infinitas transformaciones!\n",
    "\n",
    "Resumiendo, la matriz de la izquierda es la que te dice cómo transformar a la matriz de la derecha. Y así, **cualquier transformación se puede mapear a un producto matricial**."
   ]
  },
  {
   "cell_type": "markdown",
   "id": "c9b51a33",
   "metadata": {},
   "source": [
    "## Matriz inversa\n",
    "\n",
    "Ahora que entendemos que una matriz puede representar cualquier transformación lineal, una pregunta natural es: ¿podemos encontrar una matriz de transformación que invierta el efecto de una matriz de transformación dada $F$? La respuesta es sí… ¡a veces! Pero no siempre... \n",
    "\n",
    "Cuando existe, dicha matriz se denomina **inversa** de $F$ y se indica como $F^{-1}$.\n",
    "\n",
    "**Importante: invertir una matriz nunca es una operación económica. Es una operación computacionalmente costosa.**\n",
    "\n",
    "Por ejemplo, la rotación, el mapeo de corte y el mapeo de compresión tienen transformaciones inversas. Demostremos esto en el mapeo de corte:"
   ]
  },
  {
   "cell_type": "code",
   "execution_count": 97,
   "id": "23750105",
   "metadata": {},
   "outputs": [
    {
     "data": {
      "image/png": "[encoded data removed]",
      "text/plain": [
       "<Figure size 432x288 with 1 Axes>"
      ]
     },
     "metadata": {
      "needs_background": "light"
     },
     "output_type": "display_data"
    }
   ],
   "source": [
    "F_inv_shear = np.array([\n",
    "    [1, -1.5],\n",
    "    [0, 1]\n",
    "])\n",
    "P_sheared = F_shear.dot(P)\n",
    "P_unsheared = F_inv_shear.dot(P_sheared)\n",
    "plot_transformation(P_sheared, P_unsheared, \"$\\ \\ P_{cortada}$\", \"$P_{descortada}$\",\n",
    "                    axis=[0, 10, 0, 7])\n",
    "plt.plot(P[0], P[1], \"b--\")\n",
    "plt.show()"
   ]
  },
  {
   "cell_type": "markdown",
   "id": "0e706527",
   "metadata": {},
   "source": [
    "Aplicamos un mapeo de corte en $P$, tal como lo hicimos antes, pero luego aplicamos una segunda transformación al resultado, y *he aquí* esto tuvo el efecto de volver al $P$ original (trazamos el esquema original de $P$ para verificar). La segunda transformación es la inversa de la primera.\n",
    "\n",
    "Esta vez definimos la matriz inversa $F_{shear}^{-1}$ manualmente, pero NumPy proporciona una función `inv` para calcular la inversa de una matriz, por lo que podríamos haber escrito en su lugar:"
   ]
  },
  {
   "cell_type": "code",
   "execution_count": 86,
   "id": "1616e332",
   "metadata": {},
   "outputs": [
    {
     "name": "stdout",
     "output_type": "stream",
     "text": [
      "[[1.  1.5]\n",
      " [0.  1. ]]\n",
      "[[ 1.  -1.5]\n",
      " [ 0.   1. ]]\n"
     ]
    }
   ],
   "source": [
    "import numpy.linalg as LA\n",
    "print(F_shear)\n",
    "F_inv_shear = LA.inv(F_shear)\n",
    "print(F_inv_shear)"
   ]
  },
  {
   "cell_type": "markdown",
   "id": "c872dd57",
   "metadata": {},
   "source": [
    "Solo se pueden invertir matrices cuadradas. Esto tiene sentido cuando lo piensa: si tiene una transformación que reduce el número de dimensiones, se pierde parte de la información y no hay forma de recuperarla. Por ejemplo, digamos que usa una matriz de $2 \\times 3$ para proyectar un objeto 3D en un plano. El resultado puede verse así:"
   ]
  },
  {
   "cell_type": "code",
   "execution_count": 87,
   "id": "3b01d122",
   "metadata": {},
   "outputs": [
    {
     "data": {
      "image/png": "[encoded data removed]",
      "text/plain": [
       "<Figure size 432x288 with 1 Axes>"
      ]
     },
     "metadata": {
      "needs_background": "light"
     },
     "output_type": "display_data"
    }
   ],
   "source": [
    "plt.plot([0, 0, 1, 1, 0, 0.1, 0.1, 0, 0.1, 1.1, 1.0, 1.1, 1.1, 1.0, 1.1, 0.1],\n",
    "         [0, 1, 1, 0, 0, 0.1, 1.1, 1.0, 1.1, 1.1, 1.0, 1.1, 0.1, 0, 0.1, 0.1],\n",
    "         \"r-\")\n",
    "plt.axis([-0.5, 2.1, -0.5, 1.5])\n",
    "plt.show()"
   ]
  },
  {
   "cell_type": "markdown",
   "id": "7af8a41f",
   "metadata": {},
   "source": [
    "Mirando esta imagen, es imposible saber si se trata de la proyección de un cubo o de un objeto rectangular estrecho. Parte de la información se ha perdido en la proyección.\n",
    "\n",
    "Incluso las matrices de transformación cuadradas pueden perder información. Por ejemplo, considere esta matriz de transformación:"
   ]
  },
  {
   "cell_type": "code",
   "execution_count": 94,
   "id": "c83fc9e8",
   "metadata": {},
   "outputs": [
    {
     "data": {
      "image/png": "[encoded data removed]",
      "text/plain": [
       "<Figure size 432x288 with 1 Axes>"
      ]
     },
     "metadata": {
      "needs_background": "light"
     },
     "output_type": "display_data"
    }
   ],
   "source": [
    "F_project = np.array([\n",
    "        [1, 0],\n",
    "        [0, 0]\n",
    "    ])\n",
    "plot_transformation(P, F_project.dot(P), \"$P$\", \"$F_{project} \\cdot P$\",\n",
    "                    axis=[0, 6, -1, 4])\n",
    "plt.plot(F_project.dot(P)[0], F_project.dot(P)[1], \"ro\")\n",
    "\n",
    "plt.show()"
   ]
  },
  {
   "cell_type": "code",
   "execution_count": 90,
   "id": "d5af6358",
   "metadata": {},
   "outputs": [
    {
     "name": "stdout",
     "output_type": "stream",
     "text": [
      "[[3.  4.  1.  4.6]\n",
      " [0.2 3.5 2.  0.5]]\n",
      "\n",
      "[[3.  4.  1.  4.6]\n",
      " [0.  0.  0.  0. ]]\n"
     ]
    }
   ],
   "source": [
    "# Esta transformación tiene mucho que ver con una que hicimos antes. \n",
    "# Cuál?\n",
    "print(P)\n",
    "print()\n",
    "print(F_project.dot(P))"
   ]
  },
  {
   "cell_type": "markdown",
   "id": "1359e81f",
   "metadata": {},
   "source": [
    "Esta matriz de transformación realiza una proyección sobre el eje horizontal. Nuestro polígono se aplana por completo, por lo que parte de la información se pierde por completo y es imposible volver al polígono original mediante una transformación lineal. En otras palabras, $F_{proyect}$ no tiene inversa. \n",
    "\n",
    "Una matriz cuadrada de este tipo que no se puede invertir se denomina **matriz singular**. Si le pedimos a NumPy que calcule su inversa, genera una excepción:"
   ]
  },
  {
   "cell_type": "code",
   "execution_count": 149,
   "id": "35781236",
   "metadata": {},
   "outputs": [
    {
     "name": "stdout",
     "output_type": "stream",
     "text": [
      "LinAlgError: Singular matrix\n"
     ]
    }
   ],
   "source": [
    "try:\n",
    "    LA.inv(F_project)\n",
    "except LA.LinAlgError as e:\n",
    "    print(\"LinAlgError:\", e)"
   ]
  },
  {
   "cell_type": "markdown",
   "id": "6861760c",
   "metadata": {},
   "source": [
    "Como era de esperar, el producto escalar de una matriz por su inversa da como resultado la matriz identidad:\n",
    "\n",
    "$M \\cdot M^{-1} = M^{-1} \\cdot M = I$\n",
    "\n",
    "Esto tiene sentido ya que hacer una transformación lineal seguida de la transformación inversa no produce ningún cambio."
   ]
  },
  {
   "cell_type": "code",
   "execution_count": 99,
   "id": "3bc74eff",
   "metadata": {},
   "outputs": [
    {
     "data": {
      "text/plain": [
       "array([[1., 0.],\n",
       "       [0., 1.]])"
      ]
     },
     "execution_count": 99,
     "metadata": {},
     "output_type": "execute_result"
    }
   ],
   "source": [
    "F_shear.dot(LA.inv(F_shear))"
   ]
  },
  {
   "cell_type": "markdown",
   "id": "746ebf42",
   "metadata": {},
   "source": [
    "Otra forma de expresar esto es que la inversa de la inversa de una matriz $M$ es la misma $M$:\n",
    "\n",
    "$((M)^{-1})^{-1} = M$"
   ]
  },
  {
   "cell_type": "code",
   "execution_count": 100,
   "id": "802a7868",
   "metadata": {},
   "outputs": [
    {
     "name": "stdout",
     "output_type": "stream",
     "text": [
      "[[1.  1.5]\n",
      " [0.  1. ]]\n",
      "\n",
      "[[1.  1.5]\n",
      " [0.  1. ]]\n"
     ]
    }
   ],
   "source": [
    "print(F_shear)\n",
    "print()\n",
    "print(LA.inv(LA.inv(F_shear)))"
   ]
  },
  {
   "cell_type": "markdown",
   "id": "08088501",
   "metadata": {},
   "source": [
    "Una matriz que es su propia inversa se llama **involución**. Los ejemplos más simples son las matrices de reflexión, o una rotación de 180°, pero también hay involuciones más complejas, por ejemplo, imagina una transformación que se comprime horizontalmente, luego se refleja sobre el eje vertical y finalmente gira 90° en el sentido de las agujas del reloj. Tome una servilleta e intente hacerlo dos veces: terminará en la posición original. Aquí está la matriz involutiva correspondiente:"
   ]
  },
  {
   "cell_type": "code",
   "execution_count": 101,
   "id": "1500ea5b",
   "metadata": {},
   "outputs": [
    {
     "data": {
      "image/png": "[encoded data removed]",
      "text/plain": [
       "<Figure size 432x288 with 1 Axes>"
      ]
     },
     "metadata": {
      "needs_background": "light"
     },
     "output_type": "display_data"
    }
   ],
   "source": [
    "F_involution  = np.array([\n",
    "        [0, -2],\n",
    "        [-1/2, 0]\n",
    "    ])\n",
    "plot_transformation(P, F_involution.dot(P), \"$P$\", \"$F_{involucion} \\cdot P$\",\n",
    "                    axis=[-8, 5, -4, 4])\n",
    "plt.show()"
   ]
  },
  {
   "cell_type": "markdown",
   "id": "4509b4be",
   "metadata": {},
   "source": [
    "Finalmente, una matriz cuadrada $H$ cuya inversa es su propia transpuesta es una **matriz ortogonal**:\n",
    "\n",
    "$H^{-1} = H^T$\n",
    "\n",
    "Por lo tanto:\n",
    "\n",
    "$H \\cdot H^T = H^T \\cdot H = I$\n",
    "\n",
    "Corresponde a una transformación que conserva distancias, como rotaciones y reflexiones, y combinaciones de estas, pero sin reescalar, cortar o comprimir. Verifiquemos que $F_{reflect}$ sea realmente ortogonal:"
   ]
  },
  {
   "cell_type": "code",
   "execution_count": 102,
   "id": "235bcf34",
   "metadata": {},
   "outputs": [
    {
     "data": {
      "text/plain": [
       "array([[1, 0],\n",
       "       [0, 1]])"
      ]
     },
     "execution_count": 102,
     "metadata": {},
     "output_type": "execute_result"
    }
   ],
   "source": [
    "F_reflect.dot(F_reflect.T)"
   ]
  }
 ],
 "metadata": {
  "kernelspec": {
   "display_name": "Python 3 (ipykernel)",
   "language": "python",
   "name": "python3"
  },
  "language_info": {
   "codemirror_mode": {
    "name": "ipython",
    "version": 3
   },
   "file_extension": ".py",
   "mimetype": "text/x-python",
   "name": "python",
   "nbconvert_exporter": "python",
   "pygments_lexer": "ipython3",
   "version": "3.11.5"
  },
  "toc": {
   "base_numbering": 1,
   "nav_menu": {},
   "number_sections": true,
   "sideBar": true,
   "skip_h1_title": true,
   "title_cell": "Table of Contents",
   "title_sidebar": "Contents",
   "toc_cell": false,
   "toc_position": {
    "height": "calc(100% - 180px)",
    "left": "10px",
    "top": "150px",
    "width": "165px"
   },
   "toc_section_display": true,
   "toc_window_display": false
  }
 },
 "nbformat": 4,
 "nbformat_minor": 5
}
